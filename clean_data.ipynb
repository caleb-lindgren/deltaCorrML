{
 "cells": [
  {
   "cell_type": "markdown",
   "id": "109909aa",
   "metadata": {},
   "source": [
    "# Clean data\n",
    "\n",
    "Normalization and imputing missing values."
   ]
  },
  {
   "cell_type": "code",
   "execution_count": 1,
   "id": "4945a797",
   "metadata": {},
   "outputs": [],
   "source": [
    "import pandas as pd\n",
    "import numpy as np"
   ]
  },
  {
   "cell_type": "markdown",
   "id": "4c952bad",
   "metadata": {},
   "source": [
    "## Load data"
   ]
  },
  {
   "cell_type": "code",
   "execution_count": 2,
   "id": "e902f79d",
   "metadata": {
    "scrolled": true
   },
   "outputs": [
    {
     "data": {
      "text/plain": [
       "cancer_type                            0.000000\n",
       "tumor_normal_residuals_corr            0.000000\n",
       "prot_RNA_tumor_normal_ratios_corr      0.000000\n",
       "above_reg_line_ACSS1_Normal            0.000000\n",
       "above_reg_line_ACSS1_Tumor             0.000000\n",
       "above_reg_line_C1orf116_Normal         0.417178\n",
       "above_reg_line_C1orf116_Tumor          0.417178\n",
       "above_reg_line_CARD9_Normal            0.288344\n",
       "above_reg_line_CARD9_Tumor             0.288344\n",
       "above_reg_line_CDKN2A_Normal           0.230061\n",
       "above_reg_line_CDKN2A_Tumor            0.230061\n",
       "above_reg_line_CFI_Normal              0.957055\n",
       "above_reg_line_CFI_Tumor               0.957055\n",
       "above_reg_line_DYNC1LI1_Normal         0.539877\n",
       "above_reg_line_DYNC1LI1_Tumor          0.539877\n",
       "above_reg_line_ECH1_Normal             0.128834\n",
       "above_reg_line_ECH1_Tumor              0.128834\n",
       "above_reg_line_ECT2_Normal             0.000000\n",
       "above_reg_line_ECT2_Tumor              0.000000\n",
       "above_reg_line_FAM57A_Normal           0.481595\n",
       "above_reg_line_FAM57A_Tumor            0.481595\n",
       "above_reg_line_GPCPD1_Normal           0.230061\n",
       "above_reg_line_GPCPD1_Tumor            0.230061\n",
       "above_reg_line_HPS3_Normal             0.539877\n",
       "above_reg_line_HPS3_Tumor              0.539877\n",
       "above_reg_line_IFT43_Normal            0.957055\n",
       "above_reg_line_IFT43_Tumor             0.957055\n",
       "above_reg_line_IMPDH1_Normal           0.288344\n",
       "above_reg_line_IMPDH1_Tumor            0.288344\n",
       "above_reg_line_IMPDH2_Normal           0.358896\n",
       "                                         ...   \n",
       "above_reg_line_THADA_Tumor             0.358896\n",
       "above_reg_line_TXLNG_Normal            0.539877\n",
       "above_reg_line_TXLNG_Tumor             0.539877\n",
       "above_reg_line_USP7_Normal             0.128834\n",
       "above_reg_line_USP7_Tumor              0.128834\n",
       "tumor_normal_residual_diff_ACSS1       0.000000\n",
       "tumor_normal_residual_diff_C1orf116    0.417178\n",
       "tumor_normal_residual_diff_CARD9       0.392638\n",
       "tumor_normal_residual_diff_CDKN2A      0.294479\n",
       "tumor_normal_residual_diff_CFI         0.957055\n",
       "tumor_normal_residual_diff_DYNC1LI1    0.539877\n",
       "tumor_normal_residual_diff_ECH1        0.128834\n",
       "tumor_normal_residual_diff_ECT2        0.184049\n",
       "tumor_normal_residual_diff_FAM57A      0.861963\n",
       "tumor_normal_residual_diff_GPCPD1      0.230061\n",
       "tumor_normal_residual_diff_HPS3        0.539877\n",
       "tumor_normal_residual_diff_IFT43       0.963190\n",
       "tumor_normal_residual_diff_IMPDH1      0.288344\n",
       "tumor_normal_residual_diff_IMPDH2      0.358896\n",
       "tumor_normal_residual_diff_MBNL2       0.230061\n",
       "tumor_normal_residual_diff_MFSD4A      0.604294\n",
       "tumor_normal_residual_diff_NELL1       0.911043\n",
       "tumor_normal_residual_diff_PPM1L       0.328221\n",
       "tumor_normal_residual_diff_RIPK3       0.358896\n",
       "tumor_normal_residual_diff_RNASET2     0.481595\n",
       "tumor_normal_residual_diff_SLC1A5      0.358896\n",
       "tumor_normal_residual_diff_TALDO1      0.438650\n",
       "tumor_normal_residual_diff_THADA       0.358896\n",
       "tumor_normal_residual_diff_TXLNG       0.539877\n",
       "tumor_normal_residual_diff_USP7        0.128834\n",
       "Length: 78, dtype: float64"
      ]
     },
     "execution_count": 2,
     "metadata": {},
     "output_type": "execute_result"
    }
   ],
   "source": [
    "X = pd.read_csv(\"inputs.tsv\", sep=\"\\t\", index_col=0)\n",
    "X.isna().sum(axis=0) / X.shape[0]"
   ]
  },
  {
   "cell_type": "code",
   "execution_count": 3,
   "id": "3bc15a44",
   "metadata": {
    "scrolled": false
   },
   "outputs": [
    {
     "name": "stdout",
     "output_type": "stream",
     "text": [
      "Recurrence status (1, yes; 0, no)\n",
      "0.0    265\n",
      "1.0     61\n",
      "Name: Recurrence status (1, yes; 0, no), dtype: int64\n",
      "\n",
      "Survial status (1, dead; 0, alive)\n",
      "0.0    260\n",
      "1.0     57\n",
      "NaN      9\n",
      "Name: Survial status (1, dead; 0, alive), dtype: int64\n",
      "\n",
      "histologic_grade\n",
      "G1 Well differentiated                                                                            25\n",
      "G1: Nuclei round, uniform, approximately 10µm; nucleoli inconspicuous                              3\n",
      "G2 Moderately differentiated                                                                     135\n",
      "G2: Nuclei slightly irregular, approximately 15µm; nucleoli evident                               35\n",
      "G3 Poorly differentiated                                                                          89\n",
      "G3: Nuclei very irregular, approximately 20µm; nucleoli large and prominent                       28\n",
      "G4: Nuclei bizarre and multilobulated, 20µm or greater; nucleoli prominent, chromatin clumped      9\n",
      "GX Grade cannot be assessed                                                                        2\n",
      "Name: histologic_grade, dtype: int64\n",
      "\n",
      "histologic_type\n",
      "Acinar adenocarcinoma                                        24\n",
      "Acinar adenocarcinoma and papillary adenocarcinoma            1\n",
      "Adenocarcinoma                                               53\n",
      "Adenocarcinoma, acinar predominant                            1\n",
      "Adenocarcinoma, micropapillary and acinar                     1\n",
      "Adenocarcinoma, mixed subtype                                 1\n",
      "Adenocaricnoma, mixed sub-type (solid and acinar)             1\n",
      "Adenosquamous carcinoma                                       3\n",
      "Adenosquamous carcinoma (approx. 75% adeno, 25% squamous)     1\n",
      "Basaloid squamous cell carcinoma                              1\n",
      "Clear cell renal cell carcinoma                              73\n",
      "Colloid adenocarcinoma                                        1\n",
      "Endometrioid carcinoma                                       12\n",
      "Keratinizing Squamous Cell Carcinoma                          1\n",
      "Keratinizing squamous cell carcinoma                         16\n",
      "Lepidic adenocarcinoma                                        2\n",
      "Lepidic adenocarcinoma, Invasive mucinous adenocarcinoma      1\n",
      "Mixed acinar and micropapillary adenocarcinoma                1\n",
      "Non-keratinizing squamous cell carcinoma                     12\n",
      "Papillary adenocarcinoma                                      3\n",
      "Serous carcinoma                                              2\n",
      "Solid adenocarcinoma                                          6\n",
      "Squamous cell carcinoma                                      64\n",
      "Squamous cell carcinoma, conventional                        40\n",
      "adenocarcinoma with neuroendocrine differentiation            1\n",
      "adenosquamous carcinoma                                       1\n",
      "non-Clear cell renal cell carcinoma                           2\n",
      "squamous versus adenocarcinoma pending IHC                    1\n",
      "Name: histologic_type, dtype: int64\n",
      "\n",
      "measure_of_success_of_outcome_at_last_available_follow-up\n",
      "Complete Remission    132\n",
      "Not Applicable         30\n",
      "Patient Deceased       57\n",
      "Persistent Disease     33\n",
      "Unknown                37\n",
      "NaN                    37\n",
      "Name: measure_of_success_of_outcome_at_last_available_follow-up, dtype: int64\n",
      "\n",
      "pathologic_staging_primary_tumor\n",
      "t1      83\n",
      "t2     149\n",
      "t3      77\n",
      "t4      11\n",
      "NaN      6\n",
      "Name: pathologic_staging_primary_tumor, dtype: int64\n",
      "\n"
     ]
    }
   ],
   "source": [
    "y = pd.read_csv(\"targets.tsv\", sep=\"\\t\", index_col=0)\n",
    "for col in y.columns:\n",
    "    print(col)\n",
    "    print(y[col].value_counts(dropna=False).sort_index())\n",
    "    print()"
   ]
  },
  {
   "cell_type": "markdown",
   "id": "ac0e45b2",
   "metadata": {},
   "source": [
    "## Input: Impute unknowns and normalize"
   ]
  },
  {
   "cell_type": "markdown",
   "id": "94ba4737",
   "metadata": {},
   "source": [
    "### Split table\n",
    "\n",
    "Since different column types require different operations, we're going to split the dataframe based on column type."
   ]
  },
  {
   "cell_type": "code",
   "execution_count": 4,
   "id": "ad569fc8",
   "metadata": {},
   "outputs": [],
   "source": [
    "cat_cols = [\"cancer_type\"] # Categorical\n",
    "bool_cols = X.columns[X.columns.str.startswith(\"above_reg_line_\")] # Boolean\n",
    "num_cols = X.columns[X.columns.str.startswith(\"tumor_normal_residual_diff_\")].tolist() + [\n",
    "    \"tumor_normal_residuals_corr\", \"prot_RNA_tumor_normal_ratios_corr\"\n",
    "] # Numerical"
   ]
  },
  {
   "cell_type": "code",
   "execution_count": 5,
   "id": "fc5ee1f6",
   "metadata": {},
   "outputs": [],
   "source": [
    "X_cat = X[cat_cols].copy()\n",
    "X_bool = X[bool_cols].copy()\n",
    "X_num = X[num_cols].copy()"
   ]
  },
  {
   "cell_type": "markdown",
   "id": "039b5849",
   "metadata": {},
   "source": [
    "### Categorical column is just cancer type, doesn't need any work"
   ]
  },
  {
   "cell_type": "code",
   "execution_count": 6,
   "id": "c1a82c47",
   "metadata": {},
   "outputs": [
    {
     "data": {
      "text/plain": [
       "cancer_type\n",
       "luad           101\n",
       "lscc            94\n",
       "ccrcc           75\n",
       "hnscc           42\n",
       "endometrial     14\n",
       "dtype: int64"
      ]
     },
     "execution_count": 6,
     "metadata": {},
     "output_type": "execute_result"
    }
   ],
   "source": [
    "X_cat.value_counts(dropna=False)"
   ]
  },
  {
   "cell_type": "markdown",
   "id": "b1cce817",
   "metadata": {},
   "source": [
    "### Impute boolean column NaNs\n",
    "\n",
    "Fill NaNs in boolean columns with a random array of trues and falses, with the same proportion of trues and falses as the original non-NaN cells."
   ]
  },
  {
   "cell_type": "code",
   "execution_count": 7,
   "id": "dd41b4d8",
   "metadata": {
    "scrolled": true
   },
   "outputs": [],
   "source": [
    "# Select column with tied mode\n",
    "for col in bool_cols:\n",
    "    \n",
    "    # Get count of nans to fill\n",
    "    nan_ct = X_bool[col].isna().sum()\n",
    "    \n",
    "    # Find the proportion of trues and falses in the original non-NaN values\n",
    "    true_prop = X_bool[col].mean()\n",
    "    \n",
    "    # Create an array that size with the same proportion of trues and falses\n",
    "    true_ct = round(true_prop * nan_ct)\n",
    "    false_ct = nan_ct - true_ct\n",
    "    fill_arr = np.append(np.full(true_ct, True), np.full(false_ct, False))\n",
    "    \n",
    "    # Shuffle the array\n",
    "    rng = np.random.default_rng(0)\n",
    "    rng.shuffle(fill_arr)\n",
    "    \n",
    "    # Assign to the column\n",
    "    X_bool.loc[X_bool[col].isna(), col] = fill_arr"
   ]
  },
  {
   "cell_type": "markdown",
   "id": "9d6957b8",
   "metadata": {},
   "source": [
    "### Impute numerical column NaNs\n",
    "\n",
    "We'll just fill with the column mean."
   ]
  },
  {
   "cell_type": "code",
   "execution_count": 8,
   "id": "da527207",
   "metadata": {},
   "outputs": [],
   "source": [
    "X_num = X_num.fillna(X_num.mean(axis=0))"
   ]
  },
  {
   "cell_type": "markdown",
   "id": "6a70c1d9",
   "metadata": {},
   "source": [
    "### Normalize numerical columns"
   ]
  },
  {
   "cell_type": "code",
   "execution_count": 9,
   "id": "af46f225",
   "metadata": {},
   "outputs": [],
   "source": [
    "mins = X_num.min(axis=0)\n",
    "maxs = X_num.max(axis=0)\n",
    "X_num = (X_num - mins) / (maxs - mins)"
   ]
  },
  {
   "cell_type": "markdown",
   "id": "6ba86c70",
   "metadata": {},
   "source": [
    "### Join tables and save"
   ]
  },
  {
   "cell_type": "code",
   "execution_count": 10,
   "id": "18c297e2",
   "metadata": {
    "scrolled": true
   },
   "outputs": [],
   "source": [
    "X_joined = X_cat.join(X_bool).join(X_num)\n",
    "X_joined.to_csv(\"inputs_cleaned.tsv\", sep=\"\\t\")"
   ]
  },
  {
   "cell_type": "markdown",
   "id": "8a57adff",
   "metadata": {},
   "source": [
    "## Targets: Impute NaNs\n",
    "\n",
    "We'll just fill with the column mode."
   ]
  },
  {
   "cell_type": "code",
   "execution_count": 11,
   "id": "43b866a9",
   "metadata": {},
   "outputs": [],
   "source": [
    "y = y.fillna(y.mode(dropna=True).iloc[0, :])\n",
    "    "
   ]
  },
  {
   "cell_type": "markdown",
   "id": "d40be876",
   "metadata": {},
   "source": [
    "Also, we're going to combine the similar groups in histologic_grade."
   ]
  },
  {
   "cell_type": "code",
   "execution_count": 12,
   "id": "20131241",
   "metadata": {},
   "outputs": [],
   "source": [
    "y = y.assign(histologic_grade=y[\"histologic_grade\"].str[:2])"
   ]
  },
  {
   "cell_type": "markdown",
   "id": "881ffdde",
   "metadata": {},
   "source": [
    "Check the finished product."
   ]
  },
  {
   "cell_type": "code",
   "execution_count": 13,
   "id": "d6f5a629",
   "metadata": {
    "scrolled": true
   },
   "outputs": [
    {
     "name": "stdout",
     "output_type": "stream",
     "text": [
      "Recurrence status (1, yes; 0, no)\n",
      "0.0    265\n",
      "1.0     61\n",
      "Name: Recurrence status (1, yes; 0, no), dtype: int64\n",
      "\n",
      "Survial status (1, dead; 0, alive)\n",
      "0.0    269\n",
      "1.0     57\n",
      "Name: Survial status (1, dead; 0, alive), dtype: int64\n",
      "\n",
      "histologic_grade\n",
      "G1     28\n",
      "G2    170\n",
      "G3    117\n",
      "G4      9\n",
      "GX      2\n",
      "Name: histologic_grade, dtype: int64\n",
      "\n",
      "histologic_type\n",
      "Acinar adenocarcinoma                                        24\n",
      "Acinar adenocarcinoma and papillary adenocarcinoma            1\n",
      "Adenocarcinoma                                               53\n",
      "Adenocarcinoma, acinar predominant                            1\n",
      "Adenocarcinoma, micropapillary and acinar                     1\n",
      "Adenocarcinoma, mixed subtype                                 1\n",
      "Adenocaricnoma, mixed sub-type (solid and acinar)             1\n",
      "Adenosquamous carcinoma                                       3\n",
      "Adenosquamous carcinoma (approx. 75% adeno, 25% squamous)     1\n",
      "Basaloid squamous cell carcinoma                              1\n",
      "Clear cell renal cell carcinoma                              73\n",
      "Colloid adenocarcinoma                                        1\n",
      "Endometrioid carcinoma                                       12\n",
      "Keratinizing Squamous Cell Carcinoma                          1\n",
      "Keratinizing squamous cell carcinoma                         16\n",
      "Lepidic adenocarcinoma                                        2\n",
      "Lepidic adenocarcinoma, Invasive mucinous adenocarcinoma      1\n",
      "Mixed acinar and micropapillary adenocarcinoma                1\n",
      "Non-keratinizing squamous cell carcinoma                     12\n",
      "Papillary adenocarcinoma                                      3\n",
      "Serous carcinoma                                              2\n",
      "Solid adenocarcinoma                                          6\n",
      "Squamous cell carcinoma                                      64\n",
      "Squamous cell carcinoma, conventional                        40\n",
      "adenocarcinoma with neuroendocrine differentiation            1\n",
      "adenosquamous carcinoma                                       1\n",
      "non-Clear cell renal cell carcinoma                           2\n",
      "squamous versus adenocarcinoma pending IHC                    1\n",
      "Name: histologic_type, dtype: int64\n",
      "\n",
      "measure_of_success_of_outcome_at_last_available_follow-up\n",
      "Complete Remission    169\n",
      "Not Applicable         30\n",
      "Patient Deceased       57\n",
      "Persistent Disease     33\n",
      "Unknown                37\n",
      "Name: measure_of_success_of_outcome_at_last_available_follow-up, dtype: int64\n",
      "\n",
      "pathologic_staging_primary_tumor\n",
      "t1     83\n",
      "t2    155\n",
      "t3     77\n",
      "t4     11\n",
      "Name: pathologic_staging_primary_tumor, dtype: int64\n",
      "\n"
     ]
    }
   ],
   "source": [
    "for col in y.columns:\n",
    "    print(col)\n",
    "    print(y[col].value_counts(dropna=False).sort_index())\n",
    "    print()"
   ]
  },
  {
   "cell_type": "markdown",
   "id": "974f4a28",
   "metadata": {},
   "source": [
    "Save the targets."
   ]
  },
  {
   "cell_type": "code",
   "execution_count": 14,
   "id": "8c364d0b",
   "metadata": {},
   "outputs": [],
   "source": [
    "y.to_csv(\"targets_cleaned.tsv\", sep=\"\\t\")"
   ]
  }
 ],
 "metadata": {
  "kernelspec": {
   "display_name": "Python 3 (ipykernel)",
   "language": "python",
   "name": "python3"
  },
  "language_info": {
   "codemirror_mode": {
    "name": "ipython",
    "version": 3
   },
   "file_extension": ".py",
   "mimetype": "text/x-python",
   "name": "python",
   "nbconvert_exporter": "python",
   "pygments_lexer": "ipython3",
   "version": "3.7.7"
  }
 },
 "nbformat": 4,
 "nbformat_minor": 5
}
