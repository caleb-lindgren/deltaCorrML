{
 "cells": [
  {
   "cell_type": "markdown",
   "id": "2780423e",
   "metadata": {},
   "source": [
    "# Naïve Bayes"
   ]
  },
  {
   "cell_type": "code",
   "execution_count": 19,
   "id": "277263da",
   "metadata": {},
   "outputs": [],
   "source": [
    "import numpy as np\n",
    "import pandas as pd\n",
    "import sklearn.neural_network\n",
    "import sklearn.model_selection\n",
    "import sklearn.naive_bayes\n",
    "from sklearn import preprocessing\n",
    "import scipy\n",
    "import pprint\n",
    "from mixed_naive_bayes import MixedNB"
   ]
  },
  {
   "cell_type": "markdown",
   "id": "9831e1c3",
   "metadata": {},
   "source": [
    "## Load data"
   ]
  },
  {
   "cell_type": "code",
   "execution_count": 15,
   "id": "5eaad0b5",
   "metadata": {},
   "outputs": [
    {
     "data": {
      "text/html": [
       "<div>\n",
       "<style scoped>\n",
       "    .dataframe tbody tr th:only-of-type {\n",
       "        vertical-align: middle;\n",
       "    }\n",
       "\n",
       "    .dataframe tbody tr th {\n",
       "        vertical-align: top;\n",
       "    }\n",
       "\n",
       "    .dataframe thead th {\n",
       "        text-align: right;\n",
       "    }\n",
       "</style>\n",
       "<table border=\"1\" class=\"dataframe\">\n",
       "  <thead>\n",
       "    <tr style=\"text-align: right;\">\n",
       "      <th></th>\n",
       "      <th>Recurrence status (1, yes; 0, no)</th>\n",
       "      <th>Survial status (1, dead; 0, alive)</th>\n",
       "      <th>histologic_grade</th>\n",
       "      <th>histologic_type</th>\n",
       "      <th>measure_of_success_of_outcome_at_last_available_follow-up</th>\n",
       "      <th>pathologic_staging_primary_tumor</th>\n",
       "    </tr>\n",
       "  </thead>\n",
       "  <tbody>\n",
       "    <tr>\n",
       "      <th>C3L-00004</th>\n",
       "      <td>0.0</td>\n",
       "      <td>0.0</td>\n",
       "      <td>g3</td>\n",
       "      <td>clear cell renal cell carcinoma</td>\n",
       "      <td>unknown</td>\n",
       "      <td>t3</td>\n",
       "    </tr>\n",
       "    <tr>\n",
       "      <th>C3L-00010</th>\n",
       "      <td>0.0</td>\n",
       "      <td>0.0</td>\n",
       "      <td>g3</td>\n",
       "      <td>clear cell renal cell carcinoma</td>\n",
       "      <td>complete remission</td>\n",
       "      <td>t1</td>\n",
       "    </tr>\n",
       "    <tr>\n",
       "      <th>C3L-00011</th>\n",
       "      <td>0.0</td>\n",
       "      <td>1.0</td>\n",
       "      <td>g4</td>\n",
       "      <td>clear cell renal cell carcinoma</td>\n",
       "      <td>patient deceased</td>\n",
       "      <td>t3</td>\n",
       "    </tr>\n",
       "    <tr>\n",
       "      <th>C3L-00026</th>\n",
       "      <td>0.0</td>\n",
       "      <td>0.0</td>\n",
       "      <td>g3</td>\n",
       "      <td>clear cell renal cell carcinoma</td>\n",
       "      <td>complete remission</td>\n",
       "      <td>t1</td>\n",
       "    </tr>\n",
       "    <tr>\n",
       "      <th>C3L-00079</th>\n",
       "      <td>0.0</td>\n",
       "      <td>1.0</td>\n",
       "      <td>g3</td>\n",
       "      <td>clear cell renal cell carcinoma</td>\n",
       "      <td>patient deceased</td>\n",
       "      <td>t3</td>\n",
       "    </tr>\n",
       "    <tr>\n",
       "      <th>...</th>\n",
       "      <td>...</td>\n",
       "      <td>...</td>\n",
       "      <td>...</td>\n",
       "      <td>...</td>\n",
       "      <td>...</td>\n",
       "      <td>...</td>\n",
       "    </tr>\n",
       "    <tr>\n",
       "      <th>C3N-02582</th>\n",
       "      <td>0.0</td>\n",
       "      <td>1.0</td>\n",
       "      <td>g3</td>\n",
       "      <td>adenocarcinoma</td>\n",
       "      <td>patient deceased</td>\n",
       "      <td>t2</td>\n",
       "    </tr>\n",
       "    <tr>\n",
       "      <th>C3N-02586</th>\n",
       "      <td>0.0</td>\n",
       "      <td>1.0</td>\n",
       "      <td>g2</td>\n",
       "      <td>adenocarcinoma</td>\n",
       "      <td>patient deceased</td>\n",
       "      <td>t2</td>\n",
       "    </tr>\n",
       "    <tr>\n",
       "      <th>C3N-02587</th>\n",
       "      <td>0.0</td>\n",
       "      <td>0.0</td>\n",
       "      <td>g2</td>\n",
       "      <td>adenocarcinoma</td>\n",
       "      <td>complete remission</td>\n",
       "      <td>t1</td>\n",
       "    </tr>\n",
       "    <tr>\n",
       "      <th>C3N-02588</th>\n",
       "      <td>0.0</td>\n",
       "      <td>0.0</td>\n",
       "      <td>g3</td>\n",
       "      <td>adenocarcinoma</td>\n",
       "      <td>complete remission</td>\n",
       "      <td>t2</td>\n",
       "    </tr>\n",
       "    <tr>\n",
       "      <th>C3N-02729</th>\n",
       "      <td>1.0</td>\n",
       "      <td>1.0</td>\n",
       "      <td>g3</td>\n",
       "      <td>adenocarcinoma</td>\n",
       "      <td>patient deceased</td>\n",
       "      <td>t2</td>\n",
       "    </tr>\n",
       "  </tbody>\n",
       "</table>\n",
       "<p>326 rows × 6 columns</p>\n",
       "</div>"
      ],
      "text/plain": [
       "           Recurrence status (1, yes; 0, no)  \\\n",
       "C3L-00004                                0.0   \n",
       "C3L-00010                                0.0   \n",
       "C3L-00011                                0.0   \n",
       "C3L-00026                                0.0   \n",
       "C3L-00079                                0.0   \n",
       "...                                      ...   \n",
       "C3N-02582                                0.0   \n",
       "C3N-02586                                0.0   \n",
       "C3N-02587                                0.0   \n",
       "C3N-02588                                0.0   \n",
       "C3N-02729                                1.0   \n",
       "\n",
       "           Survial status (1, dead; 0, alive) histologic_grade  \\\n",
       "C3L-00004                                 0.0               g3   \n",
       "C3L-00010                                 0.0               g3   \n",
       "C3L-00011                                 1.0               g4   \n",
       "C3L-00026                                 0.0               g3   \n",
       "C3L-00079                                 1.0               g3   \n",
       "...                                       ...              ...   \n",
       "C3N-02582                                 1.0               g3   \n",
       "C3N-02586                                 1.0               g2   \n",
       "C3N-02587                                 0.0               g2   \n",
       "C3N-02588                                 0.0               g3   \n",
       "C3N-02729                                 1.0               g3   \n",
       "\n",
       "                           histologic_type  \\\n",
       "C3L-00004  clear cell renal cell carcinoma   \n",
       "C3L-00010  clear cell renal cell carcinoma   \n",
       "C3L-00011  clear cell renal cell carcinoma   \n",
       "C3L-00026  clear cell renal cell carcinoma   \n",
       "C3L-00079  clear cell renal cell carcinoma   \n",
       "...                                    ...   \n",
       "C3N-02582                   adenocarcinoma   \n",
       "C3N-02586                   adenocarcinoma   \n",
       "C3N-02587                   adenocarcinoma   \n",
       "C3N-02588                   adenocarcinoma   \n",
       "C3N-02729                   adenocarcinoma   \n",
       "\n",
       "          measure_of_success_of_outcome_at_last_available_follow-up  \\\n",
       "C3L-00004                                            unknown          \n",
       "C3L-00010                                 complete remission          \n",
       "C3L-00011                                   patient deceased          \n",
       "C3L-00026                                 complete remission          \n",
       "C3L-00079                                   patient deceased          \n",
       "...                                                      ...          \n",
       "C3N-02582                                   patient deceased          \n",
       "C3N-02586                                   patient deceased          \n",
       "C3N-02587                                 complete remission          \n",
       "C3N-02588                                 complete remission          \n",
       "C3N-02729                                   patient deceased          \n",
       "\n",
       "          pathologic_staging_primary_tumor  \n",
       "C3L-00004                               t3  \n",
       "C3L-00010                               t1  \n",
       "C3L-00011                               t3  \n",
       "C3L-00026                               t1  \n",
       "C3L-00079                               t3  \n",
       "...                                    ...  \n",
       "C3N-02582                               t2  \n",
       "C3N-02586                               t2  \n",
       "C3N-02587                               t1  \n",
       "C3N-02588                               t2  \n",
       "C3N-02729                               t2  \n",
       "\n",
       "[326 rows x 6 columns]"
      ]
     },
     "execution_count": 15,
     "metadata": {},
     "output_type": "execute_result"
    }
   ],
   "source": [
    "X = pd.read_csv(\"inputs_cleaned.tsv\", sep=\"\\t\", index_col=0)\n",
    "y = pd.read_csv(\"targets_cleaned.tsv\", sep=\"\\t\", index_col=0)\n",
    "y"
   ]
  },
  {
   "cell_type": "markdown",
   "id": "561369b1",
   "metadata": {},
   "source": [
    "## Inputs: Cast booleans to ints and one-hot encode categorical features"
   ]
  },
  {
   "cell_type": "code",
   "execution_count": 8,
   "id": "54100b1b",
   "metadata": {
    "scrolled": true
   },
   "outputs": [],
   "source": [
    "# Only categorical column is cancer type. We'll one-hot encode it.\n",
    "cancer_type_one_hot = pd.get_dummies(X[\"cancer_type\"])\n",
    "X = X.drop(columns=\"cancer_type\")\n",
    "X = cancer_type_one_hot.join(X)\n",
    "# Now we just need to cast bools to ints\n",
    "X.loc[:, X.columns[X.columns.str.startswith(\"above_reg_line_\")]] = X.\\\n",
    "loc[:, X.columns[X.columns.str.startswith(\"above_reg_line_\")]].astype(int)"
   ]
  },
  {
   "cell_type": "code",
   "execution_count": 9,
   "id": "0052be87",
   "metadata": {},
   "outputs": [],
   "source": [
    "# split up data into nominal and continuous\n",
    "X_nominal = X.select_dtypes(include=['int'])\n",
    "X_continuous = X.select_dtypes(include=['float64'])\n",
    "\n",
    "# also identify columns of categorical data for mixed naive bayes\n",
    "categorical = X.columns[X.dtypes == np.uint8]"
   ]
  },
  {
   "cell_type": "markdown",
   "id": "58d0c17c",
   "metadata": {},
   "source": [
    "## Targets: One-hot encode and split into a map of tables so we can do one target at a time"
   ]
  },
  {
   "cell_type": "code",
   "execution_count": 24,
   "id": "337548ea",
   "metadata": {},
   "outputs": [
    {
     "name": "stdout",
     "output_type": "stream",
     "text": [
      "(326,)\n",
      "(326,)\n",
      "(326,)\n",
      "(326,)\n",
      "(326,)\n",
      "(326,)\n"
     ]
    }
   ],
   "source": [
    "ys = {}\n",
    "encoders = {}\n",
    "\n",
    "for col in y.columns:\n",
    "    data = y[col]\n",
    "    le = preprocessing.LabelEncoder()\n",
    "    ys[col] = le.fit_transform(data)\n",
    "    #print(ys[col].shape)\n",
    "    encoders[col] = le"
   ]
  },
  {
   "cell_type": "markdown",
   "id": "87198523",
   "metadata": {},
   "source": [
    "## Gaussian Naive Bayes\n",
    "For continous data "
   ]
  },
  {
   "cell_type": "code",
   "execution_count": 32,
   "id": "568eb943",
   "metadata": {},
   "outputs": [],
   "source": [
    "def naive_gaussian(X, ys):\n",
    "    \n",
    "    results = {}\n",
    "    for target, y in ys.items():\n",
    "        nbg = sklearn.naive_bayes.GaussianNB()\n",
    "        #results[target] = \n",
    "        results[target] = sklearn.model_selection.cross_validate(nbg, X, y, cv=10)\n",
    "        \n",
    "    return results"
   ]
  },
  {
   "cell_type": "code",
   "execution_count": 34,
   "id": "de65ab42",
   "metadata": {},
   "outputs": [
    {
     "name": "stdout",
     "output_type": "stream",
     "text": [
      "{'Recurrence status (1, yes; 0, no)': {'fit_time': array([0.00265503, 0.0018909 , 0.00170088, 0.00140309, 0.00130105,\n",
      "       0.00156474, 0.00133705, 0.00123334, 0.00116777, 0.00100899]), 'score_time': array([0.00117397, 0.00157905, 0.00103593, 0.00098491, 0.00086904,\n",
      "       0.00088239, 0.00088501, 0.00085282, 0.00073433, 0.00072908]), 'test_score': array([0.18181818, 0.18181818, 0.78787879, 0.18181818, 0.15151515,\n",
      "       0.27272727, 0.1875    , 0.25      , 0.1875    , 0.1875    ])}, 'Survial status (1, dead; 0, alive)': {'fit_time': array([0.00105619, 0.0010128 , 0.00103998, 0.00096369, 0.00100183,\n",
      "       0.00091314, 0.00089598, 0.00089121, 0.00086784, 0.00081205]), 'score_time': array([0.00073981, 0.00074029, 0.00067091, 0.00066924, 0.00066495,\n",
      "       0.00065184, 0.00064278, 0.00064421, 0.00058317, 0.0005908 ]), 'test_score': array([0.27272727, 0.3030303 , 0.60606061, 0.21212121, 0.39393939,\n",
      "       0.78787879, 0.59375   , 0.4375    , 0.40625   , 0.46875   ])}, 'histologic_grade': {'fit_time': array([0.00119495, 0.00109696, 0.00099778, 0.0009439 , 0.00086832,\n",
      "       0.00084186, 0.00080085, 0.00079322, 0.00080395, 0.00079584]), 'score_time': array([0.00076962, 0.00075293, 0.00063014, 0.00059795, 0.00059271,\n",
      "       0.00058603, 0.00054932, 0.00055575, 0.00055695, 0.00055027]), 'test_score': array([0.03030303, 0.09090909, 0.48484848, 0.3030303 , 0.60606061,\n",
      "       0.51515152, 0.4375    , 0.3125    , 0.25      , 0.46875   ])}, 'histologic_type': {'fit_time': array([0.00126624, 0.00117993, 0.00112009, 0.00103188, 0.00100613,\n",
      "       0.001019  , 0.00102472, 0.00100112, 0.00102091, 0.00100803]), 'score_time': array([0.00077701, 0.00075793, 0.0007689 , 0.00067425, 0.00067401,\n",
      "       0.00067306, 0.00068188, 0.00066304, 0.00067496, 0.00065207]), 'test_score': array([0.66666667, 0.51515152, 0.63636364, 0.39393939, 0.45454545,\n",
      "       0.51515152, 0.5       , 0.40625   , 0.34375   , 0.34375   ])}, 'measure_of_success_of_outcome_at_last_available_follow-up': {'fit_time': array([0.00086999, 0.00079298, 0.00072598, 0.00071025, 0.00069809,\n",
      "       0.0006988 , 0.00069189, 0.00068808, 0.00069189, 0.00077891]), 'score_time': array([0.00054717, 0.00050902, 0.00049806, 0.0004847 , 0.00048494,\n",
      "       0.00048614, 0.0004828 , 0.00048304, 0.00047493, 0.00048804]), 'test_score': array([0.09090909, 0.12121212, 0.45454545, 0.27272727, 0.09090909,\n",
      "       0.06060606, 0.09375   , 0.09375   , 0.09375   , 0.0625    ])}, 'pathologic_staging_primary_tumor': {'fit_time': array([0.00070405, 0.000669  , 0.00069237, 0.00066519, 0.00064993,\n",
      "       0.00065088, 0.00065374, 0.00064921, 0.00064588, 0.00065517]), 'score_time': array([0.00047708, 0.00049686, 0.00046372, 0.00046277, 0.00045896,\n",
      "       0.000458  , 0.00046015, 0.00045967, 0.00046086, 0.00045991]), 'test_score': array([0.12121212, 0.06060606, 0.48484848, 0.57575758, 0.27272727,\n",
      "       0.57575758, 0.46875   , 0.5       , 0.46875   , 0.46875   ])}}\n"
     ]
    },
    {
     "name": "stderr",
     "output_type": "stream",
     "text": [
      "/Users/corbinday/.pyenv/versions/3.9.5/lib/python3.9/site-packages/sklearn/model_selection/_split.py:676: UserWarning: The least populated class in y has only 2 members, which is less than n_splits=10.\n",
      "  warnings.warn(\n",
      "/Users/corbinday/.pyenv/versions/3.9.5/lib/python3.9/site-packages/sklearn/model_selection/_split.py:676: UserWarning: The least populated class in y has only 1 members, which is less than n_splits=10.\n",
      "  warnings.warn(\n"
     ]
    }
   ],
   "source": [
    "gaussian_results = naive_gaussian(X_continuous, ys)\n",
    "print(gaussian_results)"
   ]
  },
  {
   "cell_type": "code",
   "execution_count": null,
   "id": "e6d06ccb",
   "metadata": {},
   "outputs": [],
   "source": []
  }
 ],
 "metadata": {
  "kernelspec": {
   "display_name": "Python 3 (ipykernel)",
   "language": "python",
   "name": "python3"
  },
  "language_info": {
   "codemirror_mode": {
    "name": "ipython",
    "version": 3
   },
   "file_extension": ".py",
   "mimetype": "text/x-python",
   "name": "python",
   "nbconvert_exporter": "python",
   "pygments_lexer": "ipython3",
   "version": "3.9.5"
  }
 },
 "nbformat": 4,
 "nbformat_minor": 5
}
