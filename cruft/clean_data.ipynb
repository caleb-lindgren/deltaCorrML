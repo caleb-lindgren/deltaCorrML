{
 "cells": [
  {
   "cell_type": "markdown",
   "id": "109909aa",
   "metadata": {},
   "source": [
    "# Clean data\n",
    "\n",
    "Normalization and imputing missing values."
   ]
  },
  {
   "cell_type": "code",
   "execution_count": 1,
   "id": "4945a797",
   "metadata": {},
   "outputs": [],
   "source": [
    "import pandas as pd\n",
    "import numpy as np"
   ]
  },
  {
   "cell_type": "markdown",
   "id": "4c952bad",
   "metadata": {},
   "source": [
    "## Load data"
   ]
  },
  {
   "cell_type": "code",
   "execution_count": 2,
   "id": "d216ce82",
   "metadata": {},
   "outputs": [],
   "source": [
    "cancer_types = [\n",
    "    \"ccrcc\",\n",
    "    \"endometrial\",\n",
    "    \"hnscc\",\n",
    "    \"lscc\",\n",
    "    \"luad\",\n",
    "]"
   ]
  },
  {
   "cell_type": "code",
   "execution_count": 7,
   "id": "e902f79d",
   "metadata": {
    "scrolled": true
   },
   "outputs": [
    {
     "ename": "FileNotFoundError",
     "evalue": "[Errno 2] No such file or directory: 'ccrcc_inputs.tsv'",
     "output_type": "error",
     "traceback": [
      "\u001b[0;31m---------------------------------------------------------------------------\u001b[0m",
      "\u001b[0;31mFileNotFoundError\u001b[0m                         Traceback (most recent call last)",
      "\u001b[0;32m/var/folders/j0/0b933hxd0_j8p66b657g5fb40000gn/T/ipykernel_26290/995057139.py\u001b[0m in \u001b[0;36m<module>\u001b[0;34m\u001b[0m\n\u001b[1;32m      1\u001b[0m \u001b[0mall_data\u001b[0m \u001b[0;34m=\u001b[0m \u001b[0;34m{\u001b[0m\u001b[0;34m}\u001b[0m\u001b[0;34m\u001b[0m\u001b[0;34m\u001b[0m\u001b[0m\n\u001b[1;32m      2\u001b[0m \u001b[0;32mfor\u001b[0m \u001b[0mcancer\u001b[0m \u001b[0;32min\u001b[0m \u001b[0mcancer_types\u001b[0m\u001b[0;34m:\u001b[0m\u001b[0;34m\u001b[0m\u001b[0;34m\u001b[0m\u001b[0m\n\u001b[0;32m----> 3\u001b[0;31m     \u001b[0mX\u001b[0m \u001b[0;34m=\u001b[0m \u001b[0mpd\u001b[0m\u001b[0;34m.\u001b[0m\u001b[0mread_csv\u001b[0m\u001b[0;34m(\u001b[0m\u001b[0;34mf'{cancer}_inputs.tsv'\u001b[0m\u001b[0;34m,\u001b[0m \u001b[0msep\u001b[0m\u001b[0;34m=\u001b[0m\u001b[0;34m\"\\t\"\u001b[0m\u001b[0;34m,\u001b[0m \u001b[0mindex_col\u001b[0m\u001b[0;34m=\u001b[0m\u001b[0;36m0\u001b[0m\u001b[0;34m)\u001b[0m\u001b[0;34m\u001b[0m\u001b[0;34m\u001b[0m\u001b[0m\n\u001b[0m\u001b[1;32m      4\u001b[0m     \u001b[0mX\u001b[0m\u001b[0;34m.\u001b[0m\u001b[0misna\u001b[0m\u001b[0;34m(\u001b[0m\u001b[0;34m)\u001b[0m\u001b[0;34m.\u001b[0m\u001b[0msum\u001b[0m\u001b[0;34m(\u001b[0m\u001b[0maxis\u001b[0m\u001b[0;34m=\u001b[0m\u001b[0;36m0\u001b[0m\u001b[0;34m)\u001b[0m \u001b[0;34m/\u001b[0m \u001b[0mX\u001b[0m\u001b[0;34m.\u001b[0m\u001b[0mshape\u001b[0m\u001b[0;34m[\u001b[0m\u001b[0;36m0\u001b[0m\u001b[0;34m]\u001b[0m\u001b[0;34m\u001b[0m\u001b[0;34m\u001b[0m\u001b[0m\n\u001b[1;32m      5\u001b[0m     \u001b[0mall_data\u001b[0m\u001b[0;34m[\u001b[0m\u001b[0mcancer\u001b[0m\u001b[0;34m]\u001b[0m \u001b[0;34m=\u001b[0m \u001b[0mX\u001b[0m\u001b[0;34m\u001b[0m\u001b[0;34m\u001b[0m\u001b[0m\n",
      "\u001b[0;32m~/Library/Python/3.9/lib/python/site-packages/pandas/io/parsers.py\u001b[0m in \u001b[0;36mread_csv\u001b[0;34m(filepath_or_buffer, sep, delimiter, header, names, index_col, usecols, squeeze, prefix, mangle_dupe_cols, dtype, engine, converters, true_values, false_values, skipinitialspace, skiprows, skipfooter, nrows, na_values, keep_default_na, na_filter, verbose, skip_blank_lines, parse_dates, infer_datetime_format, keep_date_col, date_parser, dayfirst, cache_dates, iterator, chunksize, compression, thousands, decimal, lineterminator, quotechar, quoting, doublequote, escapechar, comment, encoding, dialect, error_bad_lines, warn_bad_lines, delim_whitespace, low_memory, memory_map, float_precision, storage_options)\u001b[0m\n\u001b[1;32m    608\u001b[0m     \u001b[0mkwds\u001b[0m\u001b[0;34m.\u001b[0m\u001b[0mupdate\u001b[0m\u001b[0;34m(\u001b[0m\u001b[0mkwds_defaults\u001b[0m\u001b[0;34m)\u001b[0m\u001b[0;34m\u001b[0m\u001b[0;34m\u001b[0m\u001b[0m\n\u001b[1;32m    609\u001b[0m \u001b[0;34m\u001b[0m\u001b[0m\n\u001b[0;32m--> 610\u001b[0;31m     \u001b[0;32mreturn\u001b[0m \u001b[0m_read\u001b[0m\u001b[0;34m(\u001b[0m\u001b[0mfilepath_or_buffer\u001b[0m\u001b[0;34m,\u001b[0m \u001b[0mkwds\u001b[0m\u001b[0;34m)\u001b[0m\u001b[0;34m\u001b[0m\u001b[0;34m\u001b[0m\u001b[0m\n\u001b[0m\u001b[1;32m    611\u001b[0m \u001b[0;34m\u001b[0m\u001b[0m\n\u001b[1;32m    612\u001b[0m \u001b[0;34m\u001b[0m\u001b[0m\n",
      "\u001b[0;32m~/Library/Python/3.9/lib/python/site-packages/pandas/io/parsers.py\u001b[0m in \u001b[0;36m_read\u001b[0;34m(filepath_or_buffer, kwds)\u001b[0m\n\u001b[1;32m    460\u001b[0m \u001b[0;34m\u001b[0m\u001b[0m\n\u001b[1;32m    461\u001b[0m     \u001b[0;31m# Create the parser.\u001b[0m\u001b[0;34m\u001b[0m\u001b[0;34m\u001b[0m\u001b[0;34m\u001b[0m\u001b[0m\n\u001b[0;32m--> 462\u001b[0;31m     \u001b[0mparser\u001b[0m \u001b[0;34m=\u001b[0m \u001b[0mTextFileReader\u001b[0m\u001b[0;34m(\u001b[0m\u001b[0mfilepath_or_buffer\u001b[0m\u001b[0;34m,\u001b[0m \u001b[0;34m**\u001b[0m\u001b[0mkwds\u001b[0m\u001b[0;34m)\u001b[0m\u001b[0;34m\u001b[0m\u001b[0;34m\u001b[0m\u001b[0m\n\u001b[0m\u001b[1;32m    463\u001b[0m \u001b[0;34m\u001b[0m\u001b[0m\n\u001b[1;32m    464\u001b[0m     \u001b[0;32mif\u001b[0m \u001b[0mchunksize\u001b[0m \u001b[0;32mor\u001b[0m \u001b[0miterator\u001b[0m\u001b[0;34m:\u001b[0m\u001b[0;34m\u001b[0m\u001b[0;34m\u001b[0m\u001b[0m\n",
      "\u001b[0;32m~/Library/Python/3.9/lib/python/site-packages/pandas/io/parsers.py\u001b[0m in \u001b[0;36m__init__\u001b[0;34m(self, f, engine, **kwds)\u001b[0m\n\u001b[1;32m    817\u001b[0m             \u001b[0mself\u001b[0m\u001b[0;34m.\u001b[0m\u001b[0moptions\u001b[0m\u001b[0;34m[\u001b[0m\u001b[0;34m\"has_index_names\"\u001b[0m\u001b[0;34m]\u001b[0m \u001b[0;34m=\u001b[0m \u001b[0mkwds\u001b[0m\u001b[0;34m[\u001b[0m\u001b[0;34m\"has_index_names\"\u001b[0m\u001b[0;34m]\u001b[0m\u001b[0;34m\u001b[0m\u001b[0;34m\u001b[0m\u001b[0m\n\u001b[1;32m    818\u001b[0m \u001b[0;34m\u001b[0m\u001b[0m\n\u001b[0;32m--> 819\u001b[0;31m         \u001b[0mself\u001b[0m\u001b[0;34m.\u001b[0m\u001b[0m_engine\u001b[0m \u001b[0;34m=\u001b[0m \u001b[0mself\u001b[0m\u001b[0;34m.\u001b[0m\u001b[0m_make_engine\u001b[0m\u001b[0;34m(\u001b[0m\u001b[0mself\u001b[0m\u001b[0;34m.\u001b[0m\u001b[0mengine\u001b[0m\u001b[0;34m)\u001b[0m\u001b[0;34m\u001b[0m\u001b[0;34m\u001b[0m\u001b[0m\n\u001b[0m\u001b[1;32m    820\u001b[0m \u001b[0;34m\u001b[0m\u001b[0m\n\u001b[1;32m    821\u001b[0m     \u001b[0;32mdef\u001b[0m \u001b[0mclose\u001b[0m\u001b[0;34m(\u001b[0m\u001b[0mself\u001b[0m\u001b[0;34m)\u001b[0m\u001b[0;34m:\u001b[0m\u001b[0;34m\u001b[0m\u001b[0;34m\u001b[0m\u001b[0m\n",
      "\u001b[0;32m~/Library/Python/3.9/lib/python/site-packages/pandas/io/parsers.py\u001b[0m in \u001b[0;36m_make_engine\u001b[0;34m(self, engine)\u001b[0m\n\u001b[1;32m   1048\u001b[0m             )\n\u001b[1;32m   1049\u001b[0m         \u001b[0;31m# error: Too many arguments for \"ParserBase\"\u001b[0m\u001b[0;34m\u001b[0m\u001b[0;34m\u001b[0m\u001b[0;34m\u001b[0m\u001b[0m\n\u001b[0;32m-> 1050\u001b[0;31m         \u001b[0;32mreturn\u001b[0m \u001b[0mmapping\u001b[0m\u001b[0;34m[\u001b[0m\u001b[0mengine\u001b[0m\u001b[0;34m]\u001b[0m\u001b[0;34m(\u001b[0m\u001b[0mself\u001b[0m\u001b[0;34m.\u001b[0m\u001b[0mf\u001b[0m\u001b[0;34m,\u001b[0m \u001b[0;34m**\u001b[0m\u001b[0mself\u001b[0m\u001b[0;34m.\u001b[0m\u001b[0moptions\u001b[0m\u001b[0;34m)\u001b[0m  \u001b[0;31m# type: ignore[call-arg]\u001b[0m\u001b[0;34m\u001b[0m\u001b[0;34m\u001b[0m\u001b[0m\n\u001b[0m\u001b[1;32m   1051\u001b[0m \u001b[0;34m\u001b[0m\u001b[0m\n\u001b[1;32m   1052\u001b[0m     \u001b[0;32mdef\u001b[0m \u001b[0m_failover_to_python\u001b[0m\u001b[0;34m(\u001b[0m\u001b[0mself\u001b[0m\u001b[0;34m)\u001b[0m\u001b[0;34m:\u001b[0m\u001b[0;34m\u001b[0m\u001b[0;34m\u001b[0m\u001b[0m\n",
      "\u001b[0;32m~/Library/Python/3.9/lib/python/site-packages/pandas/io/parsers.py\u001b[0m in \u001b[0;36m__init__\u001b[0;34m(self, src, **kwds)\u001b[0m\n\u001b[1;32m   1865\u001b[0m \u001b[0;34m\u001b[0m\u001b[0m\n\u001b[1;32m   1866\u001b[0m         \u001b[0;31m# open handles\u001b[0m\u001b[0;34m\u001b[0m\u001b[0;34m\u001b[0m\u001b[0;34m\u001b[0m\u001b[0m\n\u001b[0;32m-> 1867\u001b[0;31m         \u001b[0mself\u001b[0m\u001b[0;34m.\u001b[0m\u001b[0m_open_handles\u001b[0m\u001b[0;34m(\u001b[0m\u001b[0msrc\u001b[0m\u001b[0;34m,\u001b[0m \u001b[0mkwds\u001b[0m\u001b[0;34m)\u001b[0m\u001b[0;34m\u001b[0m\u001b[0;34m\u001b[0m\u001b[0m\n\u001b[0m\u001b[1;32m   1868\u001b[0m         \u001b[0;32massert\u001b[0m \u001b[0mself\u001b[0m\u001b[0;34m.\u001b[0m\u001b[0mhandles\u001b[0m \u001b[0;32mis\u001b[0m \u001b[0;32mnot\u001b[0m \u001b[0;32mNone\u001b[0m\u001b[0;34m\u001b[0m\u001b[0;34m\u001b[0m\u001b[0m\n\u001b[1;32m   1869\u001b[0m         \u001b[0;32mfor\u001b[0m \u001b[0mkey\u001b[0m \u001b[0;32min\u001b[0m \u001b[0;34m(\u001b[0m\u001b[0;34m\"storage_options\"\u001b[0m\u001b[0;34m,\u001b[0m \u001b[0;34m\"encoding\"\u001b[0m\u001b[0;34m,\u001b[0m \u001b[0;34m\"memory_map\"\u001b[0m\u001b[0;34m,\u001b[0m \u001b[0;34m\"compression\"\u001b[0m\u001b[0;34m)\u001b[0m\u001b[0;34m:\u001b[0m\u001b[0;34m\u001b[0m\u001b[0;34m\u001b[0m\u001b[0m\n",
      "\u001b[0;32m~/Library/Python/3.9/lib/python/site-packages/pandas/io/parsers.py\u001b[0m in \u001b[0;36m_open_handles\u001b[0;34m(self, src, kwds)\u001b[0m\n\u001b[1;32m   1360\u001b[0m         \u001b[0mLet\u001b[0m \u001b[0mthe\u001b[0m \u001b[0mreaders\u001b[0m \u001b[0mopen\u001b[0m \u001b[0mIOHanldes\u001b[0m \u001b[0mafter\u001b[0m \u001b[0mthey\u001b[0m \u001b[0mare\u001b[0m \u001b[0mdone\u001b[0m \u001b[0;32mwith\u001b[0m \u001b[0mtheir\u001b[0m \u001b[0mpotential\u001b[0m \u001b[0mraises\u001b[0m\u001b[0;34m.\u001b[0m\u001b[0;34m\u001b[0m\u001b[0;34m\u001b[0m\u001b[0m\n\u001b[1;32m   1361\u001b[0m         \"\"\"\n\u001b[0;32m-> 1362\u001b[0;31m         self.handles = get_handle(\n\u001b[0m\u001b[1;32m   1363\u001b[0m             \u001b[0msrc\u001b[0m\u001b[0;34m,\u001b[0m\u001b[0;34m\u001b[0m\u001b[0;34m\u001b[0m\u001b[0m\n\u001b[1;32m   1364\u001b[0m             \u001b[0;34m\"r\"\u001b[0m\u001b[0;34m,\u001b[0m\u001b[0;34m\u001b[0m\u001b[0;34m\u001b[0m\u001b[0m\n",
      "\u001b[0;32m~/Library/Python/3.9/lib/python/site-packages/pandas/io/common.py\u001b[0m in \u001b[0;36mget_handle\u001b[0;34m(path_or_buf, mode, encoding, compression, memory_map, is_text, errors, storage_options)\u001b[0m\n\u001b[1;32m    640\u001b[0m                 \u001b[0merrors\u001b[0m \u001b[0;34m=\u001b[0m \u001b[0;34m\"replace\"\u001b[0m\u001b[0;34m\u001b[0m\u001b[0;34m\u001b[0m\u001b[0m\n\u001b[1;32m    641\u001b[0m             \u001b[0;31m# Encoding\u001b[0m\u001b[0;34m\u001b[0m\u001b[0;34m\u001b[0m\u001b[0;34m\u001b[0m\u001b[0m\n\u001b[0;32m--> 642\u001b[0;31m             handle = open(\n\u001b[0m\u001b[1;32m    643\u001b[0m                 \u001b[0mhandle\u001b[0m\u001b[0;34m,\u001b[0m\u001b[0;34m\u001b[0m\u001b[0;34m\u001b[0m\u001b[0m\n\u001b[1;32m    644\u001b[0m                 \u001b[0mioargs\u001b[0m\u001b[0;34m.\u001b[0m\u001b[0mmode\u001b[0m\u001b[0;34m,\u001b[0m\u001b[0;34m\u001b[0m\u001b[0;34m\u001b[0m\u001b[0m\n",
      "\u001b[0;31mFileNotFoundError\u001b[0m: [Errno 2] No such file or directory: 'ccrcc_inputs.tsv'"
     ]
    }
   ],
   "source": [
    "all_data = {}\n",
    "for cancer in cancer_types:\n",
    "    X = pd.read_csv(f'{cancer}_inputs.tsv', sep=\"\\t\", index_col=0)\n",
    "    X.isna().sum(axis=0) / X.shape[0]\n",
    "    all_data[cancer] = X"
   ]
  },
  {
   "cell_type": "code",
   "execution_count": 18,
   "id": "c8dd6ce8",
   "metadata": {},
   "outputs": [
    {
     "ename": "FileNotFoundError",
     "evalue": "[Errno 2] No such file or directory: 'Users/Bryn/PayneLab/pancancer/deltaCorrML/hnscc_inputs.tsv'",
     "output_type": "error",
     "traceback": [
      "\u001b[0;31m---------------------------------------------------------------------------\u001b[0m",
      "\u001b[0;31mFileNotFoundError\u001b[0m                         Traceback (most recent call last)",
      "\u001b[0;32m/var/folders/j0/0b933hxd0_j8p66b657g5fb40000gn/T/ipykernel_26290/3396141130.py\u001b[0m in \u001b[0;36m<module>\u001b[0;34m\u001b[0m\n\u001b[0;32m----> 1\u001b[0;31m \u001b[0mpd\u001b[0m\u001b[0;34m.\u001b[0m\u001b[0mread_csv\u001b[0m\u001b[0;34m(\u001b[0m\u001b[0;34m'Users/Bryn/PayneLab/pancancer/deltaCorrML/hnscc_inputs.tsv'\u001b[0m\u001b[0;34m,\u001b[0m \u001b[0msep\u001b[0m\u001b[0;34m=\u001b[0m\u001b[0;34m\"\\t\"\u001b[0m\u001b[0;34m,\u001b[0m \u001b[0mindex_col\u001b[0m\u001b[0;34m=\u001b[0m\u001b[0;36m0\u001b[0m\u001b[0;34m)\u001b[0m\u001b[0;34m\u001b[0m\u001b[0;34m\u001b[0m\u001b[0m\n\u001b[0m",
      "\u001b[0;32m~/Library/Python/3.9/lib/python/site-packages/pandas/io/parsers.py\u001b[0m in \u001b[0;36mread_csv\u001b[0;34m(filepath_or_buffer, sep, delimiter, header, names, index_col, usecols, squeeze, prefix, mangle_dupe_cols, dtype, engine, converters, true_values, false_values, skipinitialspace, skiprows, skipfooter, nrows, na_values, keep_default_na, na_filter, verbose, skip_blank_lines, parse_dates, infer_datetime_format, keep_date_col, date_parser, dayfirst, cache_dates, iterator, chunksize, compression, thousands, decimal, lineterminator, quotechar, quoting, doublequote, escapechar, comment, encoding, dialect, error_bad_lines, warn_bad_lines, delim_whitespace, low_memory, memory_map, float_precision, storage_options)\u001b[0m\n\u001b[1;32m    608\u001b[0m     \u001b[0mkwds\u001b[0m\u001b[0;34m.\u001b[0m\u001b[0mupdate\u001b[0m\u001b[0;34m(\u001b[0m\u001b[0mkwds_defaults\u001b[0m\u001b[0;34m)\u001b[0m\u001b[0;34m\u001b[0m\u001b[0;34m\u001b[0m\u001b[0m\n\u001b[1;32m    609\u001b[0m \u001b[0;34m\u001b[0m\u001b[0m\n\u001b[0;32m--> 610\u001b[0;31m     \u001b[0;32mreturn\u001b[0m \u001b[0m_read\u001b[0m\u001b[0;34m(\u001b[0m\u001b[0mfilepath_or_buffer\u001b[0m\u001b[0;34m,\u001b[0m \u001b[0mkwds\u001b[0m\u001b[0;34m)\u001b[0m\u001b[0;34m\u001b[0m\u001b[0;34m\u001b[0m\u001b[0m\n\u001b[0m\u001b[1;32m    611\u001b[0m \u001b[0;34m\u001b[0m\u001b[0m\n\u001b[1;32m    612\u001b[0m \u001b[0;34m\u001b[0m\u001b[0m\n",
      "\u001b[0;32m~/Library/Python/3.9/lib/python/site-packages/pandas/io/parsers.py\u001b[0m in \u001b[0;36m_read\u001b[0;34m(filepath_or_buffer, kwds)\u001b[0m\n\u001b[1;32m    460\u001b[0m \u001b[0;34m\u001b[0m\u001b[0m\n\u001b[1;32m    461\u001b[0m     \u001b[0;31m# Create the parser.\u001b[0m\u001b[0;34m\u001b[0m\u001b[0;34m\u001b[0m\u001b[0;34m\u001b[0m\u001b[0m\n\u001b[0;32m--> 462\u001b[0;31m     \u001b[0mparser\u001b[0m \u001b[0;34m=\u001b[0m \u001b[0mTextFileReader\u001b[0m\u001b[0;34m(\u001b[0m\u001b[0mfilepath_or_buffer\u001b[0m\u001b[0;34m,\u001b[0m \u001b[0;34m**\u001b[0m\u001b[0mkwds\u001b[0m\u001b[0;34m)\u001b[0m\u001b[0;34m\u001b[0m\u001b[0;34m\u001b[0m\u001b[0m\n\u001b[0m\u001b[1;32m    463\u001b[0m \u001b[0;34m\u001b[0m\u001b[0m\n\u001b[1;32m    464\u001b[0m     \u001b[0;32mif\u001b[0m \u001b[0mchunksize\u001b[0m \u001b[0;32mor\u001b[0m \u001b[0miterator\u001b[0m\u001b[0;34m:\u001b[0m\u001b[0;34m\u001b[0m\u001b[0;34m\u001b[0m\u001b[0m\n",
      "\u001b[0;32m~/Library/Python/3.9/lib/python/site-packages/pandas/io/parsers.py\u001b[0m in \u001b[0;36m__init__\u001b[0;34m(self, f, engine, **kwds)\u001b[0m\n\u001b[1;32m    817\u001b[0m             \u001b[0mself\u001b[0m\u001b[0;34m.\u001b[0m\u001b[0moptions\u001b[0m\u001b[0;34m[\u001b[0m\u001b[0;34m\"has_index_names\"\u001b[0m\u001b[0;34m]\u001b[0m \u001b[0;34m=\u001b[0m \u001b[0mkwds\u001b[0m\u001b[0;34m[\u001b[0m\u001b[0;34m\"has_index_names\"\u001b[0m\u001b[0;34m]\u001b[0m\u001b[0;34m\u001b[0m\u001b[0;34m\u001b[0m\u001b[0m\n\u001b[1;32m    818\u001b[0m \u001b[0;34m\u001b[0m\u001b[0m\n\u001b[0;32m--> 819\u001b[0;31m         \u001b[0mself\u001b[0m\u001b[0;34m.\u001b[0m\u001b[0m_engine\u001b[0m \u001b[0;34m=\u001b[0m \u001b[0mself\u001b[0m\u001b[0;34m.\u001b[0m\u001b[0m_make_engine\u001b[0m\u001b[0;34m(\u001b[0m\u001b[0mself\u001b[0m\u001b[0;34m.\u001b[0m\u001b[0mengine\u001b[0m\u001b[0;34m)\u001b[0m\u001b[0;34m\u001b[0m\u001b[0;34m\u001b[0m\u001b[0m\n\u001b[0m\u001b[1;32m    820\u001b[0m \u001b[0;34m\u001b[0m\u001b[0m\n\u001b[1;32m    821\u001b[0m     \u001b[0;32mdef\u001b[0m \u001b[0mclose\u001b[0m\u001b[0;34m(\u001b[0m\u001b[0mself\u001b[0m\u001b[0;34m)\u001b[0m\u001b[0;34m:\u001b[0m\u001b[0;34m\u001b[0m\u001b[0;34m\u001b[0m\u001b[0m\n",
      "\u001b[0;32m~/Library/Python/3.9/lib/python/site-packages/pandas/io/parsers.py\u001b[0m in \u001b[0;36m_make_engine\u001b[0;34m(self, engine)\u001b[0m\n\u001b[1;32m   1048\u001b[0m             )\n\u001b[1;32m   1049\u001b[0m         \u001b[0;31m# error: Too many arguments for \"ParserBase\"\u001b[0m\u001b[0;34m\u001b[0m\u001b[0;34m\u001b[0m\u001b[0;34m\u001b[0m\u001b[0m\n\u001b[0;32m-> 1050\u001b[0;31m         \u001b[0;32mreturn\u001b[0m \u001b[0mmapping\u001b[0m\u001b[0;34m[\u001b[0m\u001b[0mengine\u001b[0m\u001b[0;34m]\u001b[0m\u001b[0;34m(\u001b[0m\u001b[0mself\u001b[0m\u001b[0;34m.\u001b[0m\u001b[0mf\u001b[0m\u001b[0;34m,\u001b[0m \u001b[0;34m**\u001b[0m\u001b[0mself\u001b[0m\u001b[0;34m.\u001b[0m\u001b[0moptions\u001b[0m\u001b[0;34m)\u001b[0m  \u001b[0;31m# type: ignore[call-arg]\u001b[0m\u001b[0;34m\u001b[0m\u001b[0;34m\u001b[0m\u001b[0m\n\u001b[0m\u001b[1;32m   1051\u001b[0m \u001b[0;34m\u001b[0m\u001b[0m\n\u001b[1;32m   1052\u001b[0m     \u001b[0;32mdef\u001b[0m \u001b[0m_failover_to_python\u001b[0m\u001b[0;34m(\u001b[0m\u001b[0mself\u001b[0m\u001b[0;34m)\u001b[0m\u001b[0;34m:\u001b[0m\u001b[0;34m\u001b[0m\u001b[0;34m\u001b[0m\u001b[0m\n",
      "\u001b[0;32m~/Library/Python/3.9/lib/python/site-packages/pandas/io/parsers.py\u001b[0m in \u001b[0;36m__init__\u001b[0;34m(self, src, **kwds)\u001b[0m\n\u001b[1;32m   1865\u001b[0m \u001b[0;34m\u001b[0m\u001b[0m\n\u001b[1;32m   1866\u001b[0m         \u001b[0;31m# open handles\u001b[0m\u001b[0;34m\u001b[0m\u001b[0;34m\u001b[0m\u001b[0;34m\u001b[0m\u001b[0m\n\u001b[0;32m-> 1867\u001b[0;31m         \u001b[0mself\u001b[0m\u001b[0;34m.\u001b[0m\u001b[0m_open_handles\u001b[0m\u001b[0;34m(\u001b[0m\u001b[0msrc\u001b[0m\u001b[0;34m,\u001b[0m \u001b[0mkwds\u001b[0m\u001b[0;34m)\u001b[0m\u001b[0;34m\u001b[0m\u001b[0;34m\u001b[0m\u001b[0m\n\u001b[0m\u001b[1;32m   1868\u001b[0m         \u001b[0;32massert\u001b[0m \u001b[0mself\u001b[0m\u001b[0;34m.\u001b[0m\u001b[0mhandles\u001b[0m \u001b[0;32mis\u001b[0m \u001b[0;32mnot\u001b[0m \u001b[0;32mNone\u001b[0m\u001b[0;34m\u001b[0m\u001b[0;34m\u001b[0m\u001b[0m\n\u001b[1;32m   1869\u001b[0m         \u001b[0;32mfor\u001b[0m \u001b[0mkey\u001b[0m \u001b[0;32min\u001b[0m \u001b[0;34m(\u001b[0m\u001b[0;34m\"storage_options\"\u001b[0m\u001b[0;34m,\u001b[0m \u001b[0;34m\"encoding\"\u001b[0m\u001b[0;34m,\u001b[0m \u001b[0;34m\"memory_map\"\u001b[0m\u001b[0;34m,\u001b[0m \u001b[0;34m\"compression\"\u001b[0m\u001b[0;34m)\u001b[0m\u001b[0;34m:\u001b[0m\u001b[0;34m\u001b[0m\u001b[0;34m\u001b[0m\u001b[0m\n",
      "\u001b[0;32m~/Library/Python/3.9/lib/python/site-packages/pandas/io/parsers.py\u001b[0m in \u001b[0;36m_open_handles\u001b[0;34m(self, src, kwds)\u001b[0m\n\u001b[1;32m   1360\u001b[0m         \u001b[0mLet\u001b[0m \u001b[0mthe\u001b[0m \u001b[0mreaders\u001b[0m \u001b[0mopen\u001b[0m \u001b[0mIOHanldes\u001b[0m \u001b[0mafter\u001b[0m \u001b[0mthey\u001b[0m \u001b[0mare\u001b[0m \u001b[0mdone\u001b[0m \u001b[0;32mwith\u001b[0m \u001b[0mtheir\u001b[0m \u001b[0mpotential\u001b[0m \u001b[0mraises\u001b[0m\u001b[0;34m.\u001b[0m\u001b[0;34m\u001b[0m\u001b[0;34m\u001b[0m\u001b[0m\n\u001b[1;32m   1361\u001b[0m         \"\"\"\n\u001b[0;32m-> 1362\u001b[0;31m         self.handles = get_handle(\n\u001b[0m\u001b[1;32m   1363\u001b[0m             \u001b[0msrc\u001b[0m\u001b[0;34m,\u001b[0m\u001b[0;34m\u001b[0m\u001b[0;34m\u001b[0m\u001b[0m\n\u001b[1;32m   1364\u001b[0m             \u001b[0;34m\"r\"\u001b[0m\u001b[0;34m,\u001b[0m\u001b[0;34m\u001b[0m\u001b[0;34m\u001b[0m\u001b[0m\n",
      "\u001b[0;32m~/Library/Python/3.9/lib/python/site-packages/pandas/io/common.py\u001b[0m in \u001b[0;36mget_handle\u001b[0;34m(path_or_buf, mode, encoding, compression, memory_map, is_text, errors, storage_options)\u001b[0m\n\u001b[1;32m    640\u001b[0m                 \u001b[0merrors\u001b[0m \u001b[0;34m=\u001b[0m \u001b[0;34m\"replace\"\u001b[0m\u001b[0;34m\u001b[0m\u001b[0;34m\u001b[0m\u001b[0m\n\u001b[1;32m    641\u001b[0m             \u001b[0;31m# Encoding\u001b[0m\u001b[0;34m\u001b[0m\u001b[0;34m\u001b[0m\u001b[0;34m\u001b[0m\u001b[0m\n\u001b[0;32m--> 642\u001b[0;31m             handle = open(\n\u001b[0m\u001b[1;32m    643\u001b[0m                 \u001b[0mhandle\u001b[0m\u001b[0;34m,\u001b[0m\u001b[0;34m\u001b[0m\u001b[0;34m\u001b[0m\u001b[0m\n\u001b[1;32m    644\u001b[0m                 \u001b[0mioargs\u001b[0m\u001b[0;34m.\u001b[0m\u001b[0mmode\u001b[0m\u001b[0;34m,\u001b[0m\u001b[0;34m\u001b[0m\u001b[0;34m\u001b[0m\u001b[0m\n",
      "\u001b[0;31mFileNotFoundError\u001b[0m: [Errno 2] No such file or directory: 'Users/Bryn/PayneLab/pancancer/deltaCorrML/hnscc_inputs.tsv'"
     ]
    }
   ],
   "source": [
    "pd.read_csv('hnscc_inputs.tsv', sep=\"\\t\", index_col=0)"
   ]
  },
  {
   "cell_type": "code",
   "execution_count": 3,
   "id": "3bc15a44",
   "metadata": {
    "scrolled": true
   },
   "outputs": [
    {
     "name": "stdout",
     "output_type": "stream",
     "text": [
      "Recurrence status (1, yes; 0, no)\n",
      "0.0    265\n",
      "1.0     61\n",
      "Name: Recurrence status (1, yes; 0, no), dtype: int64\n",
      "\n",
      "Survial status (1, dead; 0, alive)\n",
      "0.0    260\n",
      "1.0     57\n",
      "NaN      9\n",
      "Name: Survial status (1, dead; 0, alive), dtype: int64\n",
      "\n",
      "histologic_grade\n",
      "G1 Well differentiated                                                                            25\n",
      "G1: Nuclei round, uniform, approximately 10µm; nucleoli inconspicuous                              3\n",
      "G2 Moderately differentiated                                                                     135\n",
      "G2: Nuclei slightly irregular, approximately 15µm; nucleoli evident                               35\n",
      "G3 Poorly differentiated                                                                          89\n",
      "G3: Nuclei very irregular, approximately 20µm; nucleoli large and prominent                       28\n",
      "G4: Nuclei bizarre and multilobulated, 20µm or greater; nucleoli prominent, chromatin clumped      9\n",
      "GX Grade cannot be assessed                                                                        2\n",
      "Name: histologic_grade, dtype: int64\n",
      "\n",
      "histologic_type\n",
      "Acinar adenocarcinoma                                        24\n",
      "Acinar adenocarcinoma and papillary adenocarcinoma            1\n",
      "Adenocarcinoma                                               53\n",
      "Adenocarcinoma, acinar predominant                            1\n",
      "Adenocarcinoma, micropapillary and acinar                     1\n",
      "Adenocarcinoma, mixed subtype                                 1\n",
      "Adenocaricnoma, mixed sub-type (solid and acinar)             1\n",
      "Adenosquamous carcinoma                                       3\n",
      "Adenosquamous carcinoma (approx. 75% adeno, 25% squamous)     1\n",
      "Basaloid squamous cell carcinoma                              1\n",
      "Clear cell renal cell carcinoma                              73\n",
      "Colloid adenocarcinoma                                        1\n",
      "Endometrioid carcinoma                                       12\n",
      "Keratinizing Squamous Cell Carcinoma                          1\n",
      "Keratinizing squamous cell carcinoma                         16\n",
      "Lepidic adenocarcinoma                                        2\n",
      "Lepidic adenocarcinoma, Invasive mucinous adenocarcinoma      1\n",
      "Mixed acinar and micropapillary adenocarcinoma                1\n",
      "Non-keratinizing squamous cell carcinoma                     12\n",
      "Papillary adenocarcinoma                                      3\n",
      "Serous carcinoma                                              2\n",
      "Solid adenocarcinoma                                          6\n",
      "Squamous cell carcinoma                                      64\n",
      "Squamous cell carcinoma, conventional                        40\n",
      "adenocarcinoma with neuroendocrine differentiation            1\n",
      "adenosquamous carcinoma                                       1\n",
      "non-Clear cell renal cell carcinoma                           2\n",
      "squamous versus adenocarcinoma pending IHC                    1\n",
      "Name: histologic_type, dtype: int64\n",
      "\n",
      "measure_of_success_of_outcome_at_last_available_follow-up\n",
      "Complete Remission    132\n",
      "Not Applicable         30\n",
      "Patient Deceased       57\n",
      "Persistent Disease     33\n",
      "Unknown                37\n",
      "NaN                    37\n",
      "Name: measure_of_success_of_outcome_at_last_available_follow-up, dtype: int64\n",
      "\n",
      "pathologic_staging_primary_tumor\n",
      "t1      83\n",
      "t2     149\n",
      "t3      77\n",
      "t4      11\n",
      "NaN      6\n",
      "Name: pathologic_staging_primary_tumor, dtype: int64\n",
      "\n"
     ]
    }
   ],
   "source": [
    "y = pd.read_csv(\"targets.tsv\", sep=\"\\t\", index_col=0)\n",
    "for col in y.columns:\n",
    "    print(col)\n",
    "    print(y[col].value_counts(dropna=False).sort_index())\n",
    "    print()"
   ]
  },
  {
   "cell_type": "markdown",
   "id": "ac0e45b2",
   "metadata": {},
   "source": [
    "## Input: Impute unknowns and normalize"
   ]
  },
  {
   "cell_type": "markdown",
   "id": "94ba4737",
   "metadata": {},
   "source": [
    "### Split table\n",
    "\n",
    "Since different column types require different operations, we're going to split the dataframe based on column type."
   ]
  },
  {
   "cell_type": "code",
   "execution_count": 4,
   "id": "ad569fc8",
   "metadata": {},
   "outputs": [],
   "source": [
    "cat_cols = [\"cancer_type\"] # Categorical\n",
    "bool_cols = X.columns[X.columns.str.startswith(\"above_reg_line_\")] # Boolean\n",
    "num_cols = X.columns[X.columns.str.startswith(\"tumor_normal_residual_diff_\")].tolist() + [\n",
    "    \"tumor_normal_residuals_corr\", \"prot_RNA_tumor_normal_ratios_corr\"\n",
    "] # Numerical"
   ]
  },
  {
   "cell_type": "code",
   "execution_count": 5,
   "id": "fc5ee1f6",
   "metadata": {},
   "outputs": [],
   "source": [
    "X_cat = X[cat_cols].copy()\n",
    "X_bool = X[bool_cols].copy()\n",
    "X_num = X[num_cols].copy()"
   ]
  },
  {
   "cell_type": "markdown",
   "id": "039b5849",
   "metadata": {},
   "source": [
    "### Categorical column is just cancer type, doesn't need any work"
   ]
  },
  {
   "cell_type": "code",
   "execution_count": 6,
   "id": "c1a82c47",
   "metadata": {},
   "outputs": [
    {
     "data": {
      "text/plain": [
       "cancer_type\n",
       "luad           101\n",
       "lscc            94\n",
       "ccrcc           75\n",
       "hnscc           42\n",
       "endometrial     14\n",
       "dtype: int64"
      ]
     },
     "execution_count": 6,
     "metadata": {},
     "output_type": "execute_result"
    }
   ],
   "source": [
    "X_cat.value_counts(dropna=False)"
   ]
  },
  {
   "cell_type": "markdown",
   "id": "b1cce817",
   "metadata": {},
   "source": [
    "### Impute boolean column NaNs\n",
    "\n",
    "Fill NaNs in boolean columns with a random array of trues and falses, with the same proportion of trues and falses as the original non-NaN cells."
   ]
  },
  {
   "cell_type": "code",
   "execution_count": 7,
   "id": "dd41b4d8",
   "metadata": {
    "scrolled": true
   },
   "outputs": [],
   "source": [
    "# Select column with tied mode\n",
    "for col in bool_cols:\n",
    "    \n",
    "    # Get count of nans to fill\n",
    "    nan_ct = X_bool[col].isna().sum()\n",
    "    \n",
    "    # Find the proportion of trues and falses in the original non-NaN values\n",
    "    true_prop = X_bool[col].mean()\n",
    "    \n",
    "    # Create an array that size with the same proportion of trues and falses\n",
    "    true_ct = round(true_prop * nan_ct)\n",
    "    false_ct = nan_ct - true_ct\n",
    "    fill_arr = np.append(np.full(true_ct, True), np.full(false_ct, False))\n",
    "    \n",
    "    # Shuffle the array\n",
    "    rng = np.random.default_rng(0)\n",
    "    rng.shuffle(fill_arr)\n",
    "    \n",
    "    # Assign to the column\n",
    "    X_bool.loc[X_bool[col].isna(), col] = fill_arr"
   ]
  },
  {
   "cell_type": "markdown",
   "id": "9d6957b8",
   "metadata": {},
   "source": [
    "### Impute numerical column NaNs\n",
    "\n",
    "We'll just fill with the column mean."
   ]
  },
  {
   "cell_type": "code",
   "execution_count": 8,
   "id": "da527207",
   "metadata": {},
   "outputs": [],
   "source": [
    "X_num = X_num.fillna(X_num.mean(axis=0))"
   ]
  },
  {
   "cell_type": "markdown",
   "id": "6a70c1d9",
   "metadata": {},
   "source": [
    "### Normalize numerical columns"
   ]
  },
  {
   "cell_type": "code",
   "execution_count": 9,
   "id": "af46f225",
   "metadata": {},
   "outputs": [],
   "source": [
    "mins = X_num.min(axis=0)\n",
    "maxs = X_num.max(axis=0)\n",
    "X_num = (X_num - mins) / (maxs - mins)"
   ]
  },
  {
   "cell_type": "markdown",
   "id": "6ba86c70",
   "metadata": {},
   "source": [
    "### Join tables and save"
   ]
  },
  {
   "cell_type": "code",
   "execution_count": 10,
   "id": "18c297e2",
   "metadata": {
    "scrolled": true
   },
   "outputs": [],
   "source": [
    "X_joined = X_cat.join(X_bool).join(X_num)\n",
    "X_joined.to_csv(\"inputs_cleaned.tsv\", sep=\"\\t\")"
   ]
  },
  {
   "cell_type": "markdown",
   "id": "2bb98237",
   "metadata": {},
   "source": [
    "## Targets"
   ]
  },
  {
   "cell_type": "markdown",
   "id": "295f9782",
   "metadata": {},
   "source": [
    "Convert everything to lowercase."
   ]
  },
  {
   "cell_type": "code",
   "execution_count": 11,
   "id": "f18e14f0",
   "metadata": {},
   "outputs": [],
   "source": [
    "for col in y.columns:\n",
    "    if y[col].dtype == \"O\":\n",
    "        y = y.assign(**{col: y[col].str.lower()})"
   ]
  },
  {
   "cell_type": "markdown",
   "id": "d40be876",
   "metadata": {},
   "source": [
    "First we're going to combine the similar groups in histologic_grade."
   ]
  },
  {
   "cell_type": "code",
   "execution_count": 12,
   "id": "20131241",
   "metadata": {},
   "outputs": [],
   "source": [
    "y = y.assign(histologic_grade=y[\"histologic_grade\"].str[:2])"
   ]
  },
  {
   "cell_type": "markdown",
   "id": "06ad076b",
   "metadata": {},
   "source": [
    "Also group similar groups in histologic_type."
   ]
  },
  {
   "cell_type": "code",
   "execution_count": 13,
   "id": "be0274da",
   "metadata": {},
   "outputs": [],
   "source": [
    "y = y.assign(histologic_type=y[\"histologic_type\"].replace(\n",
    "    to_replace=\"adenocarcinoma, acinar predominant \",\n",
    "    value=\"acinar adenocarcinoma\",\n",
    ").replace(\n",
    "    to_replace=\"mixed acinar and micropapillary adenocarcinoma\",\n",
    "    value=\"adenocarcinoma, micropapillary and acinar\",\n",
    ").replace(\n",
    "    to_replace=\"lepidic adenocarcinoma, invasive mucinous adenocarcinoma\",\n",
    "    value=\"lepidic adenocarcinoma\",\n",
    ").replace(\n",
    "    to_replace=\"adenosquamous carcinoma (approx. 75% adeno, 25% squamous)\",\n",
    "    value=\"adenosquamous carcinoma\",\n",
    ").replace(\n",
    "    to_replace=\"squamous cell carcinoma, conventional\",\n",
    "    value=\"squamous cell carcinoma\",\n",
    ").replace(\n",
    "    to_replace=\"adenocaricnoma, mixed sub-type (solid and acinar)\",\n",
    "    value=\"adenocarcinoma, mixed subtype\",\n",
    "))"
   ]
  },
  {
   "cell_type": "markdown",
   "id": "2a7d0f38",
   "metadata": {},
   "source": [
    "Shorten some column names."
   ]
  },
  {
   "cell_type": "code",
   "execution_count": 14,
   "id": "a91bd216",
   "metadata": {},
   "outputs": [],
   "source": [
    "y.columns = y.columns.to_series().replace(\n",
    "    \"measure_of_success_of_outcome_at_last_available_follow-up\",\n",
    "    \"success_last_follow-up\",\n",
    ").replace(\n",
    "    \"pathologic_staging_primary_tumor\",\n",
    "    \"tumor_stage\",\n",
    ").replace(\n",
    "    \"Recurrence status (1, yes; 0, no)\",\n",
    "    \"recurrence_status\",\n",
    ").replace(\n",
    "    \"Survial status (1, dead; 0, alive)\",\n",
    "    \"survival_status\",\n",
    ")"
   ]
  },
  {
   "cell_type": "markdown",
   "id": "0971c158",
   "metadata": {},
   "source": [
    "### Address NaNs\n",
    "\n",
    "We'll just fill with the column mode."
   ]
  },
  {
   "cell_type": "code",
   "execution_count": 15,
   "id": "519f521b",
   "metadata": {},
   "outputs": [],
   "source": [
    "y = y.fillna(y.mode(dropna=True).iloc[0, :])"
   ]
  },
  {
   "cell_type": "markdown",
   "id": "881ffdde",
   "metadata": {},
   "source": [
    "Check the finished product."
   ]
  },
  {
   "cell_type": "code",
   "execution_count": 16,
   "id": "d6f5a629",
   "metadata": {
    "scrolled": false
   },
   "outputs": [
    {
     "name": "stdout",
     "output_type": "stream",
     "text": [
      "recurrence_status\n",
      "0.0    265\n",
      "1.0     61\n",
      "Name: recurrence_status, dtype: int64\n",
      "\n",
      "survival_status\n",
      "0.0    269\n",
      "1.0     57\n",
      "Name: survival_status, dtype: int64\n",
      "\n",
      "histologic_grade\n",
      "g1     28\n",
      "g2    170\n",
      "g3    117\n",
      "g4      9\n",
      "gx      2\n",
      "Name: histologic_grade, dtype: int64\n",
      "\n",
      "histologic_type\n",
      "acinar adenocarcinoma                                  25\n",
      "acinar adenocarcinoma and papillary adenocarcinoma      1\n",
      "adenocarcinoma                                         53\n",
      "adenocarcinoma with neuroendocrine differentiation      1\n",
      "adenocarcinoma, micropapillary and acinar               2\n",
      "adenocarcinoma, mixed subtype                           2\n",
      "adenosquamous carcinoma                                 5\n",
      "basaloid squamous cell carcinoma                        1\n",
      "clear cell renal cell carcinoma                        73\n",
      "colloid adenocarcinoma                                  1\n",
      "endometrioid carcinoma                                 12\n",
      "keratinizing squamous cell carcinoma                   17\n",
      "lepidic adenocarcinoma                                  3\n",
      "non-clear cell renal cell carcinoma                     2\n",
      "non-keratinizing squamous cell carcinoma               12\n",
      "papillary adenocarcinoma                                3\n",
      "serous carcinoma                                        2\n",
      "solid adenocarcinoma                                    6\n",
      "squamous cell carcinoma                               104\n",
      "squamous versus adenocarcinoma pending ihc              1\n",
      "Name: histologic_type, dtype: int64\n",
      "\n",
      "success_last_follow-up\n",
      "complete remission    169\n",
      "not applicable         30\n",
      "patient deceased       57\n",
      "persistent disease     33\n",
      "unknown                37\n",
      "Name: success_last_follow-up, dtype: int64\n",
      "\n",
      "tumor_stage\n",
      "t1     83\n",
      "t2    155\n",
      "t3     77\n",
      "t4     11\n",
      "Name: tumor_stage, dtype: int64\n",
      "\n"
     ]
    }
   ],
   "source": [
    "for col in y.columns:\n",
    "    print(col)\n",
    "    print(y[col].value_counts(dropna=False).sort_index())\n",
    "    print()"
   ]
  },
  {
   "cell_type": "markdown",
   "id": "974f4a28",
   "metadata": {},
   "source": [
    "Save the targets."
   ]
  },
  {
   "cell_type": "code",
   "execution_count": 17,
   "id": "8c364d0b",
   "metadata": {},
   "outputs": [],
   "source": [
    "y.to_csv(\"targets_cleaned.tsv\", sep=\"\\t\")"
   ]
  }
 ],
 "metadata": {
  "kernelspec": {
   "display_name": "Python 3 (ipykernel)",
   "language": "python",
   "name": "python3"
  },
  "language_info": {
   "codemirror_mode": {
    "name": "ipython",
    "version": 3
   },
   "file_extension": ".py",
   "mimetype": "text/x-python",
   "name": "python",
   "nbconvert_exporter": "python",
   "pygments_lexer": "ipython3",
   "version": "3.9.1"
  }
 },
 "nbformat": 4,
 "nbformat_minor": 5
}
