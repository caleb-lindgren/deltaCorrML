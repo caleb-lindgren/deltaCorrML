{
 "cells": [
  {
   "cell_type": "markdown",
   "id": "f50dc152",
   "metadata": {},
   "source": [
    "# Load data"
   ]
  },
  {
   "cell_type": "code",
   "execution_count": 1,
   "id": "94da2d6a",
   "metadata": {},
   "outputs": [],
   "source": [
    "import pandas as pd\n",
    "import os"
   ]
  },
  {
   "cell_type": "markdown",
   "id": "6c9858e2",
   "metadata": {},
   "source": [
    "### Get pancancerProteinMRNA repository path\n",
    "\n",
    "This analysis will build off of data stored in the [pancancerProteinMRNA repo](https://github.com/PayneLab/pancancerProteinMRNA), which is publicly accesible. To access that data, clone the repository, then store the path to it in a text file with no quotes named `pancancerProteinMRNA_repo_path.txt` in the same directory as this notebook. The notebook will then read the path from that file and be able to access the data."
   ]
  },
  {
   "cell_type": "code",
   "execution_count": 2,
   "id": "808eac5d",
   "metadata": {},
   "outputs": [],
   "source": [
    "with open(\"pancancerProteinMRNA_repo_path.txt\", \"r\") as pcp_path_file:\n",
    "    pcp_path = pcp_path_file.read()"
   ]
  },
  {
   "cell_type": "code",
   "execution_count": 3,
   "id": "bd9a6afe",
   "metadata": {},
   "outputs": [
    {
     "data": {
      "text/plain": [
       "'/home/caleb/GitHub/PayneLab/pancancerProteinMRNA'"
      ]
     },
     "execution_count": 3,
     "metadata": {},
     "output_type": "execute_result"
    }
   ],
   "source": [
    "pcp_path"
   ]
  }
 ],
 "metadata": {
  "kernelspec": {
   "display_name": "Python 3 (ipykernel)",
   "language": "python",
   "name": "python3"
  },
  "language_info": {
   "codemirror_mode": {
    "name": "ipython",
    "version": 3
   },
   "file_extension": ".py",
   "mimetype": "text/x-python",
   "name": "python",
   "nbconvert_exporter": "python",
   "pygments_lexer": "ipython3",
   "version": "3.7.7"
  }
 },
 "nbformat": 4,
 "nbformat_minor": 5
}
