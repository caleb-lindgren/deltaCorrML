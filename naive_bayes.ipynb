{
 "cells": [
  {
   "cell_type": "markdown",
   "id": "2780423e",
   "metadata": {},
   "source": [
    "# Naïve Bayes"
   ]
  },
  {
   "cell_type": "code",
   "execution_count": 3,
   "id": "277263da",
   "metadata": {},
   "outputs": [],
   "source": [
    "import altair as alt\n",
    "import numpy as np\n",
    "import pandas as pd\n",
    "import sklearn.neural_network\n",
    "import sklearn.model_selection\n",
    "import sklearn.naive_bayes\n",
    "from sklearn import preprocessing\n",
    "import scipy\n",
    "import pprint\n",
    "from mixed_naive_bayes import MixedNB"
   ]
  },
  {
   "cell_type": "markdown",
   "id": "9831e1c3",
   "metadata": {},
   "source": [
    "## Load data"
   ]
  },
  {
   "cell_type": "code",
   "execution_count": 5,
   "id": "bcb663fb",
   "metadata": {},
   "outputs": [],
   "source": [
    "cancer_types = [\n",
    "    \"ccrcc\",\n",
    "    \"endometrial\",\n",
    "    \"hnscc\",\n",
    "    \"lscc\",\n",
    "    \"luad\",\n",
    "]"
   ]
  },
  {
   "cell_type": "code",
   "execution_count": 6,
   "id": "5eaad0b5",
   "metadata": {},
   "outputs": [],
   "source": [
    "inputs = {}\n",
    "targets = {}\n",
    "multiclass = {}\n",
    "binary = {}\n",
    "\n",
    "for cancer in cancer_types:\n",
    "    inputs[cancer] = pd.read_csv(f'clean_data/{cancer}_inputs.tsv', sep=\"\\t\", index_col=0)\n",
    "    targets[cancer] = pd.read_csv(f'clean_data/{cancer}_targets.tsv', sep=\"\\t\", index_col=0)\n",
    "    multiclass[cancer] = targets[cancer].drop(columns = ['recurrence_status', 'survival_status'])\n",
    "    binary[cancer] = targets[cancer].drop(columns = ['histologic_grade', 'histologic_type', 'success_last_follow-up', 'tumor_stage'])"
   ]
  },
  {
   "cell_type": "markdown",
   "id": "58d0c17c",
   "metadata": {},
   "source": [
    "## Targets: Encode and split into a map of tables so we can do one target at a time"
   ]
  },
  {
   "cell_type": "code",
   "execution_count": 7,
   "id": "337548ea",
   "metadata": {},
   "outputs": [
    {
     "ename": "KeyError",
     "evalue": "'ccrcc'",
     "output_type": "error",
     "traceback": [
      "\u001b[0;31m---------------------------------------------------------------------------\u001b[0m",
      "\u001b[0;31mKeyError\u001b[0m                                  Traceback (most recent call last)",
      "\u001b[0;32m/var/folders/j0/0b933hxd0_j8p66b657g5fb40000gn/T/ipykernel_56753/3558029729.py\u001b[0m in \u001b[0;36m<module>\u001b[0;34m\u001b[0m\n\u001b[1;32m     23\u001b[0m     \u001b[0mys_all\u001b[0m \u001b[0;34m=\u001b[0m \u001b[0mys_multi\u001b[0m \u001b[0;34m|\u001b[0m \u001b[0mys_binary\u001b[0m\u001b[0;34m\u001b[0m\u001b[0;34m\u001b[0m\u001b[0m\n\u001b[1;32m     24\u001b[0m \u001b[0;34m\u001b[0m\u001b[0m\n\u001b[0;32m---> 25\u001b[0;31m     \u001b[0mtarget_cols\u001b[0m\u001b[0;34m[\u001b[0m\u001b[0mcancer\u001b[0m\u001b[0;34m]\u001b[0m\u001b[0;34m[\u001b[0m\u001b[0;34m'ys_multi'\u001b[0m\u001b[0;34m]\u001b[0m \u001b[0;34m=\u001b[0m \u001b[0mys_multi\u001b[0m\u001b[0;34m\u001b[0m\u001b[0;34m\u001b[0m\u001b[0m\n\u001b[0m\u001b[1;32m     26\u001b[0m     \u001b[0mtarget_cols\u001b[0m\u001b[0;34m[\u001b[0m\u001b[0mcancer\u001b[0m\u001b[0;34m]\u001b[0m\u001b[0;34m[\u001b[0m\u001b[0;34m'ys_binary'\u001b[0m\u001b[0;34m]\u001b[0m \u001b[0;34m=\u001b[0m \u001b[0mys_binary\u001b[0m\u001b[0;34m\u001b[0m\u001b[0;34m\u001b[0m\u001b[0m\n\u001b[1;32m     27\u001b[0m     \u001b[0mtarget_cols\u001b[0m\u001b[0;34m[\u001b[0m\u001b[0mcancer\u001b[0m\u001b[0;34m]\u001b[0m\u001b[0;34m[\u001b[0m\u001b[0;34m'ys_all'\u001b[0m\u001b[0;34m]\u001b[0m \u001b[0;34m=\u001b[0m \u001b[0mys_all\u001b[0m\u001b[0;34m\u001b[0m\u001b[0;34m\u001b[0m\u001b[0m\n",
      "\u001b[0;31mKeyError\u001b[0m: 'ccrcc'"
     ]
    }
   ],
   "source": [
    "target_cols = {}\n",
    "for cancer in cancer_types:\n",
    "    encoders = {}\n",
    "\n",
    "    # multiclass\n",
    "    ys_multi = {}\n",
    "    for col in multiclass[cancer].columns:\n",
    "        data = multiclass[cancer][col]\n",
    "        le = preprocessing.LabelEncoder()\n",
    "        ys_multi[col] = le.fit_transform(data)\n",
    "        #print(col, np.unique(ys_multi[col]))\n",
    "        encoders[col] = le\n",
    "\n",
    "    # binary\n",
    "    ys_binary = {}\n",
    "    for col in binary[cancer].columns:\n",
    "        data = binary[cancer][col]\n",
    "        le = preprocessing.LabelEncoder()\n",
    "        ys_binary[col] = le.fit_transform(data)\n",
    "        #print(col, np.unique(ys_binary[col]))\n",
    "        encoders[col] = le\n",
    "\n",
    "    ys_all = ys_multi | ys_binary\n",
    "    \n",
    "    target_cols[cancer] = {'ys_multi':ys_multi, 'ys_binary': ys_binary, 'ys_all': ys_all,}\n",
    "    target_cols[cancer]['ys_multi'] = ys_multi\n",
    "    target_cols[cancer]['ys_binary'] = ys_binary\n",
    "    target_cols[cancer]['ys_all'] = ys_all\n",
    "    target_cols[cancer]['encoders'] = encoders"
   ]
  },
  {
   "cell_type": "markdown",
   "id": "87198523",
   "metadata": {},
   "source": [
    "# Train Models on Naïve Bayes"
   ]
  },
  {
   "cell_type": "code",
   "execution_count": 118,
   "id": "23873569",
   "metadata": {},
   "outputs": [],
   "source": [
    "def naive_bayes(X, ys, model, avg='samples'):\n",
    "    \n",
    "    results = {}\n",
    "    for target, y in ys.items():\n",
    "        results[target] = sklearn.model_selection.cross_validate(\n",
    "            model,\n",
    "            X,\n",
    "            y,\n",
    "            cv=10,\n",
    "            scoring={\n",
    "                \"accuracy\": \"accuracy\",\n",
    "                \"precision\": sklearn.metrics.make_scorer(\n",
    "                    sklearn.metrics.precision_score,\n",
    "                    average=avg,\n",
    "                    zero_division=0\n",
    "                ),\n",
    "                \"recall\": sklearn.metrics.make_scorer(\n",
    "                    sklearn.metrics.recall_score,\n",
    "                    average=avg,\n",
    "                    zero_division=0\n",
    "                ),\n",
    "            },\n",
    "            n_jobs=-1,\n",
    "            error_score=\"raise\",\n",
    "        )\n",
    "\n",
    "    print(results)\n",
    "\n",
    "    scores = pd.DataFrame(results).\\\n",
    "    T[[\"test_accuracy\", \"test_precision\", \"test_recall\"]].\\\n",
    "    applymap(np.mean).T\n",
    "    \n",
    "    scores.index.name = \"metric\"\n",
    "    chart_df = scores.reset_index().melt(\n",
    "        id_vars=\"metric\",\n",
    "        var_name=\"target\",\n",
    "        value_name=\"score\",\n",
    "    )\n",
    "    \n",
    "    chart = alt.Chart(chart_df).mark_bar().encode(\n",
    "        x=\"target\",\n",
    "        y=alt.Y(\n",
    "            \"score\",\n",
    "            scale=alt.Scale(\n",
    "                domain=[0, 1]\n",
    "            )\n",
    "        ),\n",
    "        color=\"target\",\n",
    "        column=\"metric\"\n",
    "    )\n",
    "    \n",
    "    scores.columns.name = \"target\"\n",
    "    scores.index.name = None\n",
    "    scores = scores.T.sort_index()\n",
    "        \n",
    "    return scores, chart"
   ]
  },
  {
   "cell_type": "markdown",
   "id": "e307fa36",
   "metadata": {},
   "source": [
    "### Gaussian Naïve Bayes (with continous data)"
   ]
  },
  {
   "cell_type": "code",
   "execution_count": 108,
   "id": "c60b8ab7",
   "metadata": {},
   "outputs": [],
   "source": [
    "nbg = sklearn.naive_bayes.GaussianNB()"
   ]
  },
  {
   "cell_type": "code",
   "execution_count": 129,
   "id": "eeadadb8",
   "metadata": {},
   "outputs": [
    {
     "name": "stderr",
     "output_type": "stream",
     "text": [
      "/Users/corbinday/.pyenv/versions/3.9.5/lib/python3.9/site-packages/sklearn/model_selection/_split.py:676: UserWarning: The least populated class in y has only 2 members, which is less than n_splits=10.\n",
      "  warnings.warn(\n"
     ]
    },
    {
     "name": "stdout",
     "output_type": "stream",
     "text": [
      "{'histologic_grade': {'fit_time': array([0.0018189 , 0.001333  , 0.00128508, 0.00138116, 0.00129104,\n",
      "       0.00181985, 0.00148296, 0.00356913, 0.00127387, 0.00128198]), 'score_time': array([0.00475788, 0.00139284, 0.00135112, 0.00132298, 0.0029788 ,\n",
      "       0.001791  , 0.00143099, 0.00213981, 0.00127578, 0.00127482]), 'test_accuracy': array([0.03030303, 0.09090909, 0.48484848, 0.3030303 , 0.60606061,\n",
      "       0.51515152, 0.4375    , 0.3125    , 0.25      , 0.46875   ]), 'test_precision': array([0.03030303, 0.09090909, 0.48484848, 0.3030303 , 0.60606061,\n",
      "       0.51515152, 0.4375    , 0.3125    , 0.25      , 0.46875   ]), 'test_recall': array([0.03030303, 0.09090909, 0.48484848, 0.3030303 , 0.60606061,\n",
      "       0.51515152, 0.4375    , 0.3125    , 0.25      , 0.46875   ])}, 'histologic_type': {'fit_time': array([0.00152302, 0.00147104, 0.00145411, 0.00137615, 0.00137401,\n",
      "       0.00222516, 0.00149703, 0.00178599, 0.00150323, 0.00139713]), 'score_time': array([0.00148296, 0.00148511, 0.00145578, 0.00142789, 0.00237298,\n",
      "       0.00136209, 0.00139689, 0.00139403, 0.00133801, 0.00131607]), 'test_accuracy': array([0.66666667, 0.51515152, 0.63636364, 0.39393939, 0.45454545,\n",
      "       0.51515152, 0.5       , 0.40625   , 0.34375   , 0.34375   ]), 'test_precision': array([0.66666667, 0.51515152, 0.63636364, 0.39393939, 0.45454545,\n",
      "       0.51515152, 0.5       , 0.40625   , 0.34375   , 0.34375   ]), 'test_recall': array([0.66666667, 0.51515152, 0.63636364, 0.39393939, 0.45454545,\n",
      "       0.51515152, 0.5       , 0.40625   , 0.34375   , 0.34375   ])}, 'success_last_follow-up': {'fit_time': array([0.00113082, 0.00104213, 0.00107312, 0.00098085, 0.00117087,\n",
      "       0.00106287, 0.00092483, 0.00103211, 0.00089598, 0.00089216]), 'score_time': array([0.00115013, 0.00114799, 0.00116086, 0.00114202, 0.00114703,\n",
      "       0.00114489, 0.00110698, 0.00115299, 0.00108504, 0.00105691]), 'test_accuracy': array([0.09090909, 0.12121212, 0.45454545, 0.27272727, 0.09090909,\n",
      "       0.06060606, 0.09375   , 0.09375   , 0.09375   , 0.0625    ]), 'test_precision': array([0.09090909, 0.12121212, 0.45454545, 0.27272727, 0.09090909,\n",
      "       0.06060606, 0.09375   , 0.09375   , 0.09375   , 0.0625    ]), 'test_recall': array([0.09090909, 0.12121212, 0.45454545, 0.27272727, 0.09090909,\n",
      "       0.06060606, 0.09375   , 0.09375   , 0.09375   , 0.0625    ])}, 'tumor_stage': {'fit_time': array([0.00104976, 0.00116396, 0.00422812, 0.00109386, 0.00104499,\n",
      "       0.00110292, 0.00107002, 0.00103593, 0.0013082 , 0.00096416]), 'score_time': array([0.00120807, 0.00130725, 0.00148702, 0.00138998, 0.00187969,\n",
      "       0.00114608, 0.001127  , 0.00113893, 0.00109196, 0.00106692]), 'test_accuracy': array([0.12121212, 0.06060606, 0.48484848, 0.57575758, 0.27272727,\n",
      "       0.57575758, 0.46875   , 0.5       , 0.46875   , 0.46875   ]), 'test_precision': array([0.12121212, 0.06060606, 0.48484848, 0.57575758, 0.27272727,\n",
      "       0.57575758, 0.46875   , 0.5       , 0.46875   , 0.46875   ]), 'test_recall': array([0.12121212, 0.06060606, 0.48484848, 0.57575758, 0.27272727,\n",
      "       0.57575758, 0.46875   , 0.5       , 0.46875   , 0.46875   ])}, 'recurrence_status': {'fit_time': array([0.00096107, 0.00091171, 0.00092101, 0.00095391, 0.00081587,\n",
      "       0.00145698, 0.00102782, 0.00100398, 0.00091124, 0.00104499]), 'score_time': array([0.00111699, 0.00112724, 0.00110292, 0.00114393, 0.001086  ,\n",
      "       0.00112391, 0.00112414, 0.00106597, 0.00109172, 0.00107217]), 'test_accuracy': array([0.18181818, 0.18181818, 0.78787879, 0.18181818, 0.15151515,\n",
      "       0.27272727, 0.1875    , 0.25      , 0.1875    , 0.1875    ]), 'test_precision': array([0.18181818, 0.18181818, 0.78787879, 0.18181818, 0.15151515,\n",
      "       0.27272727, 0.1875    , 0.25      , 0.1875    , 0.1875    ]), 'test_recall': array([0.18181818, 0.18181818, 0.78787879, 0.18181818, 0.15151515,\n",
      "       0.27272727, 0.1875    , 0.25      , 0.1875    , 0.1875    ])}, 'survival_status': {'fit_time': array([0.00094199, 0.00098586, 0.0010047 , 0.00100112, 0.00099087,\n",
      "       0.00091386, 0.00089812, 0.00098491, 0.00093007, 0.00093794]), 'score_time': array([0.00112009, 0.00110722, 0.00110912, 0.00110984, 0.00112414,\n",
      "       0.00110316, 0.00109792, 0.00112605, 0.001091  , 0.00105786]), 'test_accuracy': array([0.27272727, 0.3030303 , 0.60606061, 0.21212121, 0.39393939,\n",
      "       0.78787879, 0.59375   , 0.4375    , 0.40625   , 0.46875   ]), 'test_precision': array([0.27272727, 0.3030303 , 0.60606061, 0.21212121, 0.39393939,\n",
      "       0.78787879, 0.59375   , 0.4375    , 0.40625   , 0.46875   ]), 'test_recall': array([0.27272727, 0.3030303 , 0.60606061, 0.21212121, 0.39393939,\n",
      "       0.78787879, 0.59375   , 0.4375    , 0.40625   , 0.46875   ])}}\n"
     ]
    },
    {
     "name": "stderr",
     "output_type": "stream",
     "text": [
      "/Users/corbinday/.pyenv/versions/3.9.5/lib/python3.9/site-packages/sklearn/model_selection/_split.py:676: UserWarning: The least populated class in y has only 1 members, which is less than n_splits=10.\n",
      "  warnings.warn(\n"
     ]
    },
    {
     "data": {
      "text/plain": [
       "'\\\\begin{tabular}{lrrr}\\n\\\\toprule\\n{} &  test\\\\_accuracy &  test\\\\_precision &  test\\\\_recall \\\\\\\\\\ntarget                 &                &                 &              \\\\\\\\\\n\\\\midrule\\nhistologic\\\\_grade       &       0.349905 &        0.349905 &     0.349905 \\\\\\\\\\nhistologic\\\\_type        &       0.477557 &        0.477557 &     0.477557 \\\\\\\\\\nrecurrence\\\\_status      &       0.257008 &        0.257008 &     0.257008 \\\\\\\\\\nsuccess\\\\_last\\\\_follow-up &       0.143466 &        0.143466 &     0.143466 \\\\\\\\\\nsurvival\\\\_status        &       0.448201 &        0.448201 &     0.448201 \\\\\\\\\\ntumor\\\\_stage            &       0.399716 &        0.399716 &     0.399716 \\\\\\\\\\n\\\\bottomrule\\n\\\\end{tabular}\\n'"
      ]
     },
     "execution_count": 129,
     "metadata": {},
     "output_type": "execute_result"
    }
   ],
   "source": [
    "multi_gaussian_scores, multi_gaussian_chart = naive_bayes(X_continuous, ys_all, nbg, avg='micro')\n",
    "multi_gaussian_scores.to_latex()"
   ]
  },
  {
   "cell_type": "code",
   "execution_count": 122,
   "id": "aacbc614",
   "metadata": {},
   "outputs": [
    {
     "data": {
      "text/html": [
       "\n",
       "<div id=\"altair-viz-f62de7ed2e754251b10b212aa47326ad\"></div>\n",
       "<script type=\"text/javascript\">\n",
       "  (function(spec, embedOpt){\n",
       "    let outputDiv = document.currentScript.previousElementSibling;\n",
       "    if (outputDiv.id !== \"altair-viz-f62de7ed2e754251b10b212aa47326ad\") {\n",
       "      outputDiv = document.getElementById(\"altair-viz-f62de7ed2e754251b10b212aa47326ad\");\n",
       "    }\n",
       "    const paths = {\n",
       "      \"vega\": \"https://cdn.jsdelivr.net/npm//vega@5?noext\",\n",
       "      \"vega-lib\": \"https://cdn.jsdelivr.net/npm//vega-lib?noext\",\n",
       "      \"vega-lite\": \"https://cdn.jsdelivr.net/npm//vega-lite@4.8.1?noext\",\n",
       "      \"vega-embed\": \"https://cdn.jsdelivr.net/npm//vega-embed@6?noext\",\n",
       "    };\n",
       "\n",
       "    function loadScript(lib) {\n",
       "      return new Promise(function(resolve, reject) {\n",
       "        var s = document.createElement('script');\n",
       "        s.src = paths[lib];\n",
       "        s.async = true;\n",
       "        s.onload = () => resolve(paths[lib]);\n",
       "        s.onerror = () => reject(`Error loading script: ${paths[lib]}`);\n",
       "        document.getElementsByTagName(\"head\")[0].appendChild(s);\n",
       "      });\n",
       "    }\n",
       "\n",
       "    function showError(err) {\n",
       "      outputDiv.innerHTML = `<div class=\"error\" style=\"color:red;\">${err}</div>`;\n",
       "      throw err;\n",
       "    }\n",
       "\n",
       "    function displayChart(vegaEmbed) {\n",
       "      vegaEmbed(outputDiv, spec, embedOpt)\n",
       "        .catch(err => showError(`Javascript Error: ${err.message}<br>This usually means there's a typo in your chart specification. See the javascript console for the full traceback.`));\n",
       "    }\n",
       "\n",
       "    if(typeof define === \"function\" && define.amd) {\n",
       "      requirejs.config({paths});\n",
       "      require([\"vega-embed\"], displayChart, err => showError(`Error loading script: ${err.message}`));\n",
       "    } else if (typeof vegaEmbed === \"function\") {\n",
       "      displayChart(vegaEmbed);\n",
       "    } else {\n",
       "      loadScript(\"vega\")\n",
       "        .then(() => loadScript(\"vega-lite\"))\n",
       "        .then(() => loadScript(\"vega-embed\"))\n",
       "        .catch(showError)\n",
       "        .then(() => displayChart(vegaEmbed));\n",
       "    }\n",
       "  })({\"config\": {\"view\": {\"continuousWidth\": 400, \"continuousHeight\": 300}}, \"data\": {\"name\": \"data-993477bd13c933566fdc6b2de478749f\"}, \"mark\": \"bar\", \"encoding\": {\"color\": {\"type\": \"nominal\", \"field\": \"target\"}, \"column\": {\"type\": \"nominal\", \"field\": \"metric\"}, \"x\": {\"type\": \"nominal\", \"field\": \"target\"}, \"y\": {\"type\": \"quantitative\", \"field\": \"score\", \"scale\": {\"domain\": [0, 1]}}}, \"$schema\": \"https://vega.github.io/schema/vega-lite/v4.8.1.json\", \"datasets\": {\"data-993477bd13c933566fdc6b2de478749f\": [{\"metric\": \"test_accuracy\", \"target\": \"histologic_grade\", \"score\": 0.34990530303030304}, {\"metric\": \"test_precision\", \"target\": \"histologic_grade\", \"score\": 0.34990530303030304}, {\"metric\": \"test_recall\", \"target\": \"histologic_grade\", \"score\": 0.34990530303030304}, {\"metric\": \"test_accuracy\", \"target\": \"histologic_type\", \"score\": 0.47755681818181817}, {\"metric\": \"test_precision\", \"target\": \"histologic_type\", \"score\": 0.47755681818181817}, {\"metric\": \"test_recall\", \"target\": \"histologic_type\", \"score\": 0.47755681818181817}, {\"metric\": \"test_accuracy\", \"target\": \"success_last_follow-up\", \"score\": 0.1434659090909091}, {\"metric\": \"test_precision\", \"target\": \"success_last_follow-up\", \"score\": 0.1434659090909091}, {\"metric\": \"test_recall\", \"target\": \"success_last_follow-up\", \"score\": 0.1434659090909091}, {\"metric\": \"test_accuracy\", \"target\": \"tumor_stage\", \"score\": 0.3997159090909091}, {\"metric\": \"test_precision\", \"target\": \"tumor_stage\", \"score\": 0.3997159090909091}, {\"metric\": \"test_recall\", \"target\": \"tumor_stage\", \"score\": 0.3997159090909091}, {\"metric\": \"test_accuracy\", \"target\": \"recurrence_status\", \"score\": 0.25700757575757577}, {\"metric\": \"test_precision\", \"target\": \"recurrence_status\", \"score\": 0.25700757575757577}, {\"metric\": \"test_recall\", \"target\": \"recurrence_status\", \"score\": 0.25700757575757577}, {\"metric\": \"test_accuracy\", \"target\": \"survival_status\", \"score\": 0.4482007575757576}, {\"metric\": \"test_precision\", \"target\": \"survival_status\", \"score\": 0.4482007575757576}, {\"metric\": \"test_recall\", \"target\": \"survival_status\", \"score\": 0.4482007575757576}]}}, {\"mode\": \"vega-lite\"});\n",
       "</script>"
      ],
      "text/plain": [
       "alt.Chart(...)"
      ]
     },
     "execution_count": 122,
     "metadata": {},
     "output_type": "execute_result"
    }
   ],
   "source": [
    "multi_gaussian_chart"
   ]
  },
  {
   "cell_type": "code",
   "execution_count": 120,
   "id": "1261c156",
   "metadata": {},
   "outputs": [
    {
     "name": "stdout",
     "output_type": "stream",
     "text": [
      "{'recurrence_status': {'fit_time': array([0.00757217, 0.00820398, 0.00404406, 0.01669407, 0.01579213,\n",
      "       0.01568794, 0.00184584, 0.001652  , 0.00125694, 0.00115609]), 'score_time': array([0.00220394, 0.00240278, 0.00570965, 0.00160384, 0.00562572,\n",
      "       0.01322007, 0.00267816, 0.00329494, 0.00130606, 0.00133586]), 'test_accuracy': array([0.18181818, 0.18181818, 0.78787879, 0.18181818, 0.15151515,\n",
      "       0.27272727, 0.1875    , 0.25      , 0.1875    , 0.1875    ]), 'test_precision': array([0.18181818, 0.18181818, 0.78787879, 0.18181818, 0.15151515,\n",
      "       0.27272727, 0.1875    , 0.25      , 0.1875    , 0.1875    ]), 'test_recall': array([0.18181818, 0.18181818, 0.78787879, 0.18181818, 0.15151515,\n",
      "       0.27272727, 0.1875    , 0.25      , 0.1875    , 0.1875    ])}, 'survival_status': {'fit_time': array([0.00735283, 0.00126481, 0.00180101, 0.00115395, 0.00204611,\n",
      "       0.00156498, 0.00483727, 0.00133014, 0.00166607, 0.00120282]), 'score_time': array([0.00184321, 0.00132203, 0.00116873, 0.00116301, 0.00409603,\n",
      "       0.00162077, 0.00193191, 0.0012579 , 0.00125957, 0.00119305]), 'test_accuracy': array([0.27272727, 0.3030303 , 0.60606061, 0.21212121, 0.39393939,\n",
      "       0.78787879, 0.59375   , 0.4375    , 0.40625   , 0.46875   ]), 'test_precision': array([0.27272727, 0.3030303 , 0.60606061, 0.21212121, 0.39393939,\n",
      "       0.78787879, 0.59375   , 0.4375    , 0.40625   , 0.46875   ]), 'test_recall': array([0.27272727, 0.3030303 , 0.60606061, 0.21212121, 0.39393939,\n",
      "       0.78787879, 0.59375   , 0.4375    , 0.40625   , 0.46875   ])}}\n"
     ]
    },
    {
     "data": {
      "text/html": [
       "<div>\n",
       "<style scoped>\n",
       "    .dataframe tbody tr th:only-of-type {\n",
       "        vertical-align: middle;\n",
       "    }\n",
       "\n",
       "    .dataframe tbody tr th {\n",
       "        vertical-align: top;\n",
       "    }\n",
       "\n",
       "    .dataframe thead th {\n",
       "        text-align: right;\n",
       "    }\n",
       "</style>\n",
       "<table border=\"1\" class=\"dataframe\">\n",
       "  <thead>\n",
       "    <tr style=\"text-align: right;\">\n",
       "      <th></th>\n",
       "      <th>test_accuracy</th>\n",
       "      <th>test_precision</th>\n",
       "      <th>test_recall</th>\n",
       "    </tr>\n",
       "    <tr>\n",
       "      <th>target</th>\n",
       "      <th></th>\n",
       "      <th></th>\n",
       "      <th></th>\n",
       "    </tr>\n",
       "  </thead>\n",
       "  <tbody>\n",
       "    <tr>\n",
       "      <th>recurrence_status</th>\n",
       "      <td>0.257008</td>\n",
       "      <td>0.257008</td>\n",
       "      <td>0.257008</td>\n",
       "    </tr>\n",
       "    <tr>\n",
       "      <th>survival_status</th>\n",
       "      <td>0.448201</td>\n",
       "      <td>0.448201</td>\n",
       "      <td>0.448201</td>\n",
       "    </tr>\n",
       "  </tbody>\n",
       "</table>\n",
       "</div>"
      ],
      "text/plain": [
       "                   test_accuracy  test_precision  test_recall\n",
       "target                                                       \n",
       "recurrence_status       0.257008        0.257008     0.257008\n",
       "survival_status         0.448201        0.448201     0.448201"
      ]
     },
     "execution_count": 120,
     "metadata": {},
     "output_type": "execute_result"
    }
   ],
   "source": [
    "binary_gaussian_scores, binary_gaussian_chart = naive_bayes(X_continuous, ys_binary, nbg, 'micro')\n",
    "binary_gaussian_scores"
   ]
  },
  {
   "cell_type": "code",
   "execution_count": null,
   "id": "025aafe2",
   "metadata": {},
   "outputs": [
    {
     "data": {
      "text/html": [
       "\n",
       "<div id=\"altair-viz-38a8c09c097d43429f69bb1af0e98d2b\"></div>\n",
       "<script type=\"text/javascript\">\n",
       "  (function(spec, embedOpt){\n",
       "    let outputDiv = document.currentScript.previousElementSibling;\n",
       "    if (outputDiv.id !== \"altair-viz-38a8c09c097d43429f69bb1af0e98d2b\") {\n",
       "      outputDiv = document.getElementById(\"altair-viz-38a8c09c097d43429f69bb1af0e98d2b\");\n",
       "    }\n",
       "    const paths = {\n",
       "      \"vega\": \"https://cdn.jsdelivr.net/npm//vega@5?noext\",\n",
       "      \"vega-lib\": \"https://cdn.jsdelivr.net/npm//vega-lib?noext\",\n",
       "      \"vega-lite\": \"https://cdn.jsdelivr.net/npm//vega-lite@4.8.1?noext\",\n",
       "      \"vega-embed\": \"https://cdn.jsdelivr.net/npm//vega-embed@6?noext\",\n",
       "    };\n",
       "\n",
       "    function loadScript(lib) {\n",
       "      return new Promise(function(resolve, reject) {\n",
       "        var s = document.createElement('script');\n",
       "        s.src = paths[lib];\n",
       "        s.async = true;\n",
       "        s.onload = () => resolve(paths[lib]);\n",
       "        s.onerror = () => reject(`Error loading script: ${paths[lib]}`);\n",
       "        document.getElementsByTagName(\"head\")[0].appendChild(s);\n",
       "      });\n",
       "    }\n",
       "\n",
       "    function showError(err) {\n",
       "      outputDiv.innerHTML = `<div class=\"error\" style=\"color:red;\">${err}</div>`;\n",
       "      throw err;\n",
       "    }\n",
       "\n",
       "    function displayChart(vegaEmbed) {\n",
       "      vegaEmbed(outputDiv, spec, embedOpt)\n",
       "        .catch(err => showError(`Javascript Error: ${err.message}<br>This usually means there's a typo in your chart specification. See the javascript console for the full traceback.`));\n",
       "    }\n",
       "\n",
       "    if(typeof define === \"function\" && define.amd) {\n",
       "      requirejs.config({paths});\n",
       "      require([\"vega-embed\"], displayChart, err => showError(`Error loading script: ${err.message}`));\n",
       "    } else if (typeof vegaEmbed === \"function\") {\n",
       "      displayChart(vegaEmbed);\n",
       "    } else {\n",
       "      loadScript(\"vega\")\n",
       "        .then(() => loadScript(\"vega-lite\"))\n",
       "        .then(() => loadScript(\"vega-embed\"))\n",
       "        .catch(showError)\n",
       "        .then(() => displayChart(vegaEmbed));\n",
       "    }\n",
       "  })({\"config\": {\"view\": {\"continuousWidth\": 400, \"continuousHeight\": 300}}, \"data\": {\"name\": \"data-284fd15650f72367643913748eca20ad\"}, \"mark\": \"bar\", \"encoding\": {\"color\": {\"type\": \"nominal\", \"field\": \"target\"}, \"column\": {\"type\": \"nominal\", \"field\": \"metric\"}, \"x\": {\"type\": \"nominal\", \"field\": \"target\"}, \"y\": {\"type\": \"quantitative\", \"field\": \"score\", \"scale\": {\"domain\": [0, 1]}}}, \"$schema\": \"https://vega.github.io/schema/vega-lite/v4.8.1.json\", \"datasets\": {\"data-284fd15650f72367643913748eca20ad\": [{\"metric\": \"test_accuracy\", \"target\": \"recurrence_status\", \"score\": 0.25700757575757577}, {\"metric\": \"test_precision\", \"target\": \"recurrence_status\", \"score\": 0.25700757575757577}, {\"metric\": \"test_recall\", \"target\": \"recurrence_status\", \"score\": 0.25700757575757577}, {\"metric\": \"test_accuracy\", \"target\": \"survival_status\", \"score\": 0.4482007575757576}, {\"metric\": \"test_precision\", \"target\": \"survival_status\", \"score\": 0.4482007575757576}, {\"metric\": \"test_recall\", \"target\": \"survival_status\", \"score\": 0.4482007575757576}]}}, {\"mode\": \"vega-lite\"});\n",
       "</script>"
      ],
      "text/plain": [
       "alt.Chart(...)"
      ]
     },
     "execution_count": 70,
     "metadata": {},
     "output_type": "execute_result"
    }
   ],
   "source": [
    "binary_gaussian_chart"
   ]
  },
  {
   "cell_type": "markdown",
   "id": "08434aad",
   "metadata": {},
   "source": [
    "### Multinomial Naïve Bayes (with nominal data)"
   ]
  },
  {
   "cell_type": "code",
   "execution_count": null,
   "id": "c3c6582b",
   "metadata": {},
   "outputs": [],
   "source": [
    "def naive_multinomial(X, ys):\n",
    "    \n",
    "    results = {}\n",
    "    for target, y in ys.items():\n",
    "        nbmn = sklearn.naive_bayes.MultinomialNB()\n",
    "        results[target] = sklearn.model_selection.cross_validate(nbmn, X, y, cv=10)\n",
    "        \n",
    "    return results"
   ]
  },
  {
   "cell_type": "code",
   "execution_count": 127,
   "id": "04586773",
   "metadata": {},
   "outputs": [
    {
     "name": "stdout",
     "output_type": "stream",
     "text": [
      "{'histologic_grade': {'fit_time': array([0.0046401 , 0.00653505, 0.00584579, 0.01194715, 0.01501179,\n",
      "       0.00903988, 0.01195717, 0.01613617, 0.00230217, 0.00654793]), 'score_time': array([0.00213099, 0.00191808, 0.00196815, 0.00391388, 0.00368881,\n",
      "       0.0068481 , 0.00177503, 0.00198483, 0.00128698, 0.00165892]), 'test_accuracy': array([0.33333333, 0.27272727, 0.45454545, 0.48484848, 0.51515152,\n",
      "       0.54545455, 0.53125   , 0.4375    , 0.40625   , 0.53125   ]), 'test_precision': array([0.33333333, 0.27272727, 0.45454545, 0.48484848, 0.51515152,\n",
      "       0.54545455, 0.53125   , 0.4375    , 0.40625   , 0.53125   ]), 'test_recall': array([0.33333333, 0.27272727, 0.45454545, 0.48484848, 0.51515152,\n",
      "       0.54545455, 0.53125   , 0.4375    , 0.40625   , 0.53125   ])}, 'histologic_type': {'fit_time': array([0.00529385, 0.00434303, 0.00269818, 0.00167918, 0.00311804,\n",
      "       0.00252175, 0.00299001, 0.00149202, 0.00274324, 0.00164008]), 'score_time': array([0.004493  , 0.00137591, 0.00149488, 0.00144887, 0.00150609,\n",
      "       0.00131917, 0.00133896, 0.00130486, 0.00125504, 0.00119281]), 'test_accuracy': array([0.6969697 , 0.60606061, 0.54545455, 0.57575758, 0.51515152,\n",
      "       0.45454545, 0.46875   , 0.4375    , 0.625     , 0.65625   ]), 'test_precision': array([0.6969697 , 0.60606061, 0.54545455, 0.57575758, 0.51515152,\n",
      "       0.45454545, 0.46875   , 0.4375    , 0.625     , 0.65625   ]), 'test_recall': array([0.6969697 , 0.60606061, 0.54545455, 0.57575758, 0.51515152,\n",
      "       0.45454545, 0.46875   , 0.4375    , 0.625     , 0.65625   ])}, 'success_last_follow-up': {'fit_time': array([0.00116682, 0.00119019, 0.00115466, 0.00116491, 0.00115681,\n",
      "       0.00120401, 0.00122285, 0.00120974, 0.00117302, 0.00102401]), 'score_time': array([0.00115919, 0.00114584, 0.00112939, 0.00115013, 0.00116301,\n",
      "       0.00127888, 0.00116301, 0.00115728, 0.00108075, 0.00105023]), 'test_accuracy': array([0.54545455, 0.51515152, 0.54545455, 0.48484848, 0.51515152,\n",
      "       0.51515152, 0.46875   , 0.46875   , 0.53125   , 0.53125   ]), 'test_precision': array([0.54545455, 0.51515152, 0.54545455, 0.48484848, 0.51515152,\n",
      "       0.51515152, 0.46875   , 0.46875   , 0.53125   , 0.53125   ]), 'test_recall': array([0.54545455, 0.51515152, 0.54545455, 0.48484848, 0.51515152,\n",
      "       0.51515152, 0.46875   , 0.46875   , 0.53125   , 0.53125   ])}, 'tumor_stage': {'fit_time': array([0.00124025, 0.00118208, 0.00112391, 0.00120711, 0.0011611 ,\n",
      "       0.00114489, 0.0011282 , 0.00118399, 0.0011282 , 0.00108504]), 'score_time': array([0.00112581, 0.00111794, 0.001127  , 0.00115371, 0.00111699,\n",
      "       0.00112987, 0.00113583, 0.001127  , 0.00109076, 0.00112009]), 'test_accuracy': array([0.33333333, 0.54545455, 0.57575758, 0.72727273, 0.57575758,\n",
      "       0.57575758, 0.5       , 0.46875   , 0.5       , 0.46875   ]), 'test_precision': array([0.33333333, 0.54545455, 0.57575758, 0.72727273, 0.57575758,\n",
      "       0.57575758, 0.5       , 0.46875   , 0.5       , 0.46875   ]), 'test_recall': array([0.33333333, 0.54545455, 0.57575758, 0.72727273, 0.57575758,\n",
      "       0.57575758, 0.5       , 0.46875   , 0.5       , 0.46875   ])}, 'recurrence_status': {'fit_time': array([0.001122  , 0.00112176, 0.00102091, 0.00112391, 0.00104284,\n",
      "       0.00098681, 0.00116992, 0.00117469, 0.00121903, 0.00110507]), 'score_time': array([0.00113988, 0.00114298, 0.00111914, 0.00117016, 0.00111222,\n",
      "       0.00112414, 0.00117278, 0.00115132, 0.00117207, 0.00122595]), 'test_accuracy': array([0.78787879, 0.81818182, 0.81818182, 0.81818182, 0.81818182,\n",
      "       0.78787879, 0.8125    , 0.8125    , 0.8125    , 0.8125    ]), 'test_precision': array([0.78787879, 0.81818182, 0.81818182, 0.81818182, 0.81818182,\n",
      "       0.78787879, 0.8125    , 0.8125    , 0.8125    , 0.8125    ]), 'test_recall': array([0.78787879, 0.81818182, 0.81818182, 0.81818182, 0.81818182,\n",
      "       0.78787879, 0.8125    , 0.8125    , 0.8125    , 0.8125    ])}, 'survival_status': {'fit_time': array([0.00115085, 0.00114989, 0.00113797, 0.00109577, 0.00115418,\n",
      "       0.00107908, 0.00110126, 0.00111604, 0.00110793, 0.00107074]), 'score_time': array([0.00112629, 0.00113106, 0.00112796, 0.001127  , 0.00117993,\n",
      "       0.00115204, 0.00114775, 0.00112605, 0.00111294, 0.00107002]), 'test_accuracy': array([0.81818182, 0.81818182, 0.81818182, 0.81818182, 0.81818182,\n",
      "       0.81818182, 0.84375   , 0.84375   , 0.84375   , 0.8125    ]), 'test_precision': array([0.81818182, 0.81818182, 0.81818182, 0.81818182, 0.81818182,\n",
      "       0.81818182, 0.84375   , 0.84375   , 0.84375   , 0.8125    ]), 'test_recall': array([0.81818182, 0.81818182, 0.81818182, 0.81818182, 0.81818182,\n",
      "       0.81818182, 0.84375   , 0.84375   , 0.84375   , 0.8125    ])}}\n"
     ]
    },
    {
     "name": "stderr",
     "output_type": "stream",
     "text": [
      "/Users/corbinday/.pyenv/versions/3.9.5/lib/python3.9/site-packages/sklearn/model_selection/_split.py:676: UserWarning: The least populated class in y has only 2 members, which is less than n_splits=10.\n",
      "  warnings.warn(\n",
      "/Users/corbinday/.pyenv/versions/3.9.5/lib/python3.9/site-packages/sklearn/model_selection/_split.py:676: UserWarning: The least populated class in y has only 1 members, which is less than n_splits=10.\n",
      "  warnings.warn(\n"
     ]
    }
   ],
   "source": [
    "nbmn = sklearn.naive_bayes.MultinomialNB()\n",
    "mn_scores, mn_chart = naive_bayes(X_nominal, ys_all, nbmn, avg='micro')"
   ]
  },
  {
   "cell_type": "code",
   "execution_count": 128,
   "id": "d88c7e0f",
   "metadata": {},
   "outputs": [
    {
     "data": {
      "text/html": [
       "\n",
       "<div id=\"altair-viz-66f771794af14ebda8959e5b47531c43\"></div>\n",
       "<script type=\"text/javascript\">\n",
       "  (function(spec, embedOpt){\n",
       "    let outputDiv = document.currentScript.previousElementSibling;\n",
       "    if (outputDiv.id !== \"altair-viz-66f771794af14ebda8959e5b47531c43\") {\n",
       "      outputDiv = document.getElementById(\"altair-viz-66f771794af14ebda8959e5b47531c43\");\n",
       "    }\n",
       "    const paths = {\n",
       "      \"vega\": \"https://cdn.jsdelivr.net/npm//vega@5?noext\",\n",
       "      \"vega-lib\": \"https://cdn.jsdelivr.net/npm//vega-lib?noext\",\n",
       "      \"vega-lite\": \"https://cdn.jsdelivr.net/npm//vega-lite@4.8.1?noext\",\n",
       "      \"vega-embed\": \"https://cdn.jsdelivr.net/npm//vega-embed@6?noext\",\n",
       "    };\n",
       "\n",
       "    function loadScript(lib) {\n",
       "      return new Promise(function(resolve, reject) {\n",
       "        var s = document.createElement('script');\n",
       "        s.src = paths[lib];\n",
       "        s.async = true;\n",
       "        s.onload = () => resolve(paths[lib]);\n",
       "        s.onerror = () => reject(`Error loading script: ${paths[lib]}`);\n",
       "        document.getElementsByTagName(\"head\")[0].appendChild(s);\n",
       "      });\n",
       "    }\n",
       "\n",
       "    function showError(err) {\n",
       "      outputDiv.innerHTML = `<div class=\"error\" style=\"color:red;\">${err}</div>`;\n",
       "      throw err;\n",
       "    }\n",
       "\n",
       "    function displayChart(vegaEmbed) {\n",
       "      vegaEmbed(outputDiv, spec, embedOpt)\n",
       "        .catch(err => showError(`Javascript Error: ${err.message}<br>This usually means there's a typo in your chart specification. See the javascript console for the full traceback.`));\n",
       "    }\n",
       "\n",
       "    if(typeof define === \"function\" && define.amd) {\n",
       "      requirejs.config({paths});\n",
       "      require([\"vega-embed\"], displayChart, err => showError(`Error loading script: ${err.message}`));\n",
       "    } else if (typeof vegaEmbed === \"function\") {\n",
       "      displayChart(vegaEmbed);\n",
       "    } else {\n",
       "      loadScript(\"vega\")\n",
       "        .then(() => loadScript(\"vega-lite\"))\n",
       "        .then(() => loadScript(\"vega-embed\"))\n",
       "        .catch(showError)\n",
       "        .then(() => displayChart(vegaEmbed));\n",
       "    }\n",
       "  })({\"config\": {\"view\": {\"continuousWidth\": 400, \"continuousHeight\": 300}}, \"data\": {\"name\": \"data-55ad4882a3944854db660f6523bdc7f9\"}, \"mark\": \"bar\", \"encoding\": {\"color\": {\"type\": \"nominal\", \"field\": \"target\"}, \"column\": {\"type\": \"nominal\", \"field\": \"metric\"}, \"x\": {\"type\": \"nominal\", \"field\": \"target\"}, \"y\": {\"type\": \"quantitative\", \"field\": \"score\", \"scale\": {\"domain\": [0, 1]}}}, \"$schema\": \"https://vega.github.io/schema/vega-lite/v4.8.1.json\", \"datasets\": {\"data-55ad4882a3944854db660f6523bdc7f9\": [{\"metric\": \"test_accuracy\", \"target\": \"histologic_grade\", \"score\": 0.45123106060606055}, {\"metric\": \"test_precision\", \"target\": \"histologic_grade\", \"score\": 0.45123106060606055}, {\"metric\": \"test_recall\", \"target\": \"histologic_grade\", \"score\": 0.45123106060606055}, {\"metric\": \"test_accuracy\", \"target\": \"histologic_type\", \"score\": 0.5581439393939395}, {\"metric\": \"test_precision\", \"target\": \"histologic_type\", \"score\": 0.5581439393939395}, {\"metric\": \"test_recall\", \"target\": \"histologic_type\", \"score\": 0.5581439393939395}, {\"metric\": \"test_accuracy\", \"target\": \"success_last_follow-up\", \"score\": 0.5121212121212121}, {\"metric\": \"test_precision\", \"target\": \"success_last_follow-up\", \"score\": 0.5121212121212121}, {\"metric\": \"test_recall\", \"target\": \"success_last_follow-up\", \"score\": 0.5121212121212121}, {\"metric\": \"test_accuracy\", \"target\": \"tumor_stage\", \"score\": 0.5270833333333333}, {\"metric\": \"test_precision\", \"target\": \"tumor_stage\", \"score\": 0.5270833333333333}, {\"metric\": \"test_recall\", \"target\": \"tumor_stage\", \"score\": 0.5270833333333333}, {\"metric\": \"test_accuracy\", \"target\": \"recurrence_status\", \"score\": 0.8098484848484848}, {\"metric\": \"test_precision\", \"target\": \"recurrence_status\", \"score\": 0.8098484848484848}, {\"metric\": \"test_recall\", \"target\": \"recurrence_status\", \"score\": 0.8098484848484848}, {\"metric\": \"test_accuracy\", \"target\": \"survival_status\", \"score\": 0.825284090909091}, {\"metric\": \"test_precision\", \"target\": \"survival_status\", \"score\": 0.825284090909091}, {\"metric\": \"test_recall\", \"target\": \"survival_status\", \"score\": 0.825284090909091}]}}, {\"mode\": \"vega-lite\"});\n",
       "</script>"
      ],
      "text/plain": [
       "alt.Chart(...)"
      ]
     },
     "execution_count": 128,
     "metadata": {},
     "output_type": "execute_result"
    }
   ],
   "source": [
    "mn_chart"
   ]
  },
  {
   "cell_type": "markdown",
   "id": "51211595",
   "metadata": {},
   "source": [
    "### Mixed Naïve Bayes (with both nominal and continous data)"
   ]
  },
  {
   "cell_type": "code",
   "execution_count": 123,
   "id": "bd1bca58",
   "metadata": {},
   "outputs": [],
   "source": [
    "def naive_mixed(X, ys, cat_features):\n",
    "\n",
    "    results = {}\n",
    "    for target, y in ys.items():\n",
    "        nbmixed = MixedNB(categorical_features=cat_features)\n",
    "        nbmixed.fit(X[:int(.75 * len(X))], y[:int(.75 * len(X))])\n",
    "        score = nbmixed.score(X[int(.75 * len(X)):], y[int(.75 * len(X)):])\n",
    "        #results[target] = score\n",
    "        results[target] = sklearn.model_selection.cross_validate(nbmixed, X, y)\n",
    "        \n",
    "    return results"
   ]
  },
  {
   "cell_type": "code",
   "execution_count": null,
   "id": "13233df6",
   "metadata": {},
   "outputs": [],
   "source": [
    "mixed_results = naive_mixed(X, ys_multi, cat_features=categorical_idxs)"
   ]
  }
 ],
 "metadata": {
  "kernelspec": {
   "display_name": "Python 3 (ipykernel)",
   "language": "python",
   "name": "python3"
  },
  "language_info": {
   "codemirror_mode": {
    "name": "ipython",
    "version": 3
   },
   "file_extension": ".py",
   "mimetype": "text/x-python",
   "name": "python",
   "nbconvert_exporter": "python",
   "pygments_lexer": "ipython3",
   "version": "3.9.1"
  }
 },
 "nbformat": 4,
 "nbformat_minor": 5
}
