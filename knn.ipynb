{
 "cells": [
  {
   "cell_type": "code",
   "execution_count": 23,
   "metadata": {},
   "outputs": [],
   "source": [
    "import numpy as np\n",
    "import matplotlib.pyplot as plt\n",
    "import pandas as pd\n",
    "from sklearn.neighbors import KNeighborsClassifier\n",
    "from sklearn.model_selection import train_test_split\n",
    "import sklearn"
   ]
  },
  {
   "cell_type": "code",
   "execution_count": 3,
   "metadata": {},
   "outputs": [
    {
     "data": {
      "text/plain": [
       "Index(['Recurrence status (1, yes; 0, no)',\n",
       "       'Survial status (1, dead; 0, alive)', 'histologic_grade',\n",
       "       'histologic_type',\n",
       "       'measure_of_success_of_outcome_at_last_available_follow-up',\n",
       "       'pathologic_staging_primary_tumor'],\n",
       "      dtype='object')"
      ]
     },
     "execution_count": 3,
     "metadata": {},
     "output_type": "execute_result"
    }
   ],
   "source": [
    "X = pd.read_csv('inputs_cleaned.tsv', sep='\\t', index_col=0)\n",
    "y = pd.read_csv('targets_cleaned.tsv', sep='\\t', index_col=0)\n",
    "y.columns"
   ]
  },
  {
   "cell_type": "markdown",
   "metadata": {},
   "source": [
    "# predicting survival "
   ]
  },
  {
   "cell_type": "code",
   "execution_count": 25,
   "metadata": {},
   "outputs": [
    {
     "name": "stderr",
     "output_type": "stream",
     "text": [
      "<ipython-input-25-1ed9c0be74f9>:23: DataConversionWarning: A column-vector y was passed when a 1d array was expected. Please change the shape of y to (n_samples, ), for example using ravel().\n",
      "  clf.fit(X_train, y_train)\n"
     ]
    },
    {
     "data": {
      "text/plain": [
       "0.7777777777777778"
      ]
     },
     "execution_count": 25,
     "metadata": {},
     "output_type": "execute_result"
    }
   ],
   "source": [
    "X = pd.read_csv('inputs_cleaned.tsv', sep='\\t', index_col=0)\n",
    "y = pd.read_csv('targets_cleaned.tsv', sep='\\t', index_col=0)\n",
    "\n",
    "cancer_type_one_hot = pd.get_dummies(X[\"cancer_type\"])\n",
    "X = X.drop(columns='cancer_type')\n",
    "X = cancer_type_one_hot.join(X)\n",
    "\n",
    "# Now we just need to cast bools to ints\n",
    "X.loc[:, X.columns[X.columns.str.startswith(\"above_reg_line_\")]] = X.\\\n",
    "loc[:, X.columns[X.columns.str.startswith(\"above_reg_line_\")]].astype(int)\n",
    "\n",
    "\n",
    "# for survival fill missing with 2\n",
    "y = y[['Survial status (1, dead; 0, alive)']]\n",
    "y = y.fillna(2)\n",
    "\n",
    "y = y.to_numpy()\n",
    "X = X.to_numpy()\n",
    "\n",
    "X_train, X_test, y_train, y_test = train_test_split(X, y, test_size=0.33, random_state=42)\n",
    "\n",
    "clf = KNeighborsClassifier()\n",
    "clf.fit(X_train, y_train)\n",
    "clf.score(X_test, y_test)"
   ]
  },
  {
   "cell_type": "markdown",
   "metadata": {},
   "source": [
    "# all targets\n"
   ]
  },
  {
   "cell_type": "code",
   "execution_count": 20,
   "metadata": {},
   "outputs": [],
   "source": [
    "X = pd.read_csv('inputs_cleaned.tsv', sep='\\t', index_col=0)\n",
    "y = pd.read_csv('targets_cleaned.tsv', sep='\\t', index_col=0)\n",
    "\n",
    "cancer_type_one_hot = pd.get_dummies(X[\"cancer_type\"])\n",
    "X = X.drop(columns='cancer_type')\n",
    "X = cancer_type_one_hot.join(X)\n",
    "\n",
    "# Now we just need to cast bools to ints\n",
    "X.loc[:, X.columns[X.columns.str.startswith(\"above_reg_line_\")]] = X.\\\n",
    "loc[:, X.columns[X.columns.str.startswith(\"above_reg_line_\")]].astype(int)\n",
    "\n",
    "\n",
    "ys = {}\n",
    "\n",
    "for col in y.columns:\n",
    "    ys[col] = pd.get_dummies(y[col])"
   ]
  },
  {
   "cell_type": "code",
   "execution_count": 28,
   "metadata": {},
   "outputs": [],
   "source": [
    "def baseline(X, ys):\n",
    "    \n",
    "    results = {}\n",
    "    for target, y in ys.items():\n",
    "        knn = KNeighborsClassifier()\n",
    "        results[target] = sklearn.model_selection.cross_validate(knn, X, y, cv=10)\n",
    "        \n",
    "    return results"
   ]
  },
  {
   "cell_type": "code",
   "execution_count": 29,
   "metadata": {},
   "outputs": [],
   "source": [
    "baseline_acc = baseline(X, ys)"
   ]
  },
  {
   "cell_type": "code",
   "execution_count": 31,
   "metadata": {},
   "outputs": [
    {
     "name": "stdout",
     "output_type": "stream",
     "text": [
      "                           Recurrence status (1, yes; 0, no): 0.78\n",
      "                          Survial status (1, dead; 0, alive): 0.79\n",
      "                                            histologic_grade: 0.41\n",
      "                                             histologic_type: 0.34\n",
      "   measure_of_success_of_outcome_at_last_available_follow-up: 0.27\n",
      "                            pathologic_staging_primary_tumor: 0.28\n"
     ]
    }
   ],
   "source": [
    "for target, res in baseline_acc.items():\n",
    "    mean_acc = res[\"test_score\"].mean()\n",
    "    print(f\"{target: >60}: {round(mean_acc, 2):0<4}\")"
   ]
  },
  {
   "cell_type": "markdown",
   "metadata": {},
   "source": [
    "# Optimized"
   ]
  },
  {
   "cell_type": "code",
   "execution_count": 34,
   "metadata": {},
   "outputs": [],
   "source": [
    "def random_search(\n",
    "    X, \n",
    "    ys,\n",
    "    n_neighbors,\n",
    "    algorithm,\n",
    "    leaf_size,\n",
    "    p,\n",
    "    n_iter\n",
    "):\n",
    "    \n",
    "    \n",
    "    scores = {}\n",
    "    params = {}\n",
    "    for target, y in ys.items():\n",
    "        knn = KNeighborsClassifier()\n",
    "        search = sklearn.model_selection.RandomizedSearchCV(\n",
    "            estimator=knn,\n",
    "            param_distributions={\n",
    "                \"n_neighbors\": n_neighbors,\n",
    "                \"algorithm\": algorithm,\n",
    "                \"leaf_size\": leaf_size,\n",
    "                \"p\": p,\n",
    "            },\n",
    "            n_iter=n_iter,\n",
    "            random_state=0,\n",
    "        ).fit(X, y)\n",
    "        \n",
    "        scores[target] = search.best_score_\n",
    "        params[target] = search.best_params_\n",
    "        \n",
    "    return scores, params"
   ]
  },
  {
   "cell_type": "code",
   "execution_count": 40,
   "metadata": {},
   "outputs": [
    {
     "name": "stdout",
     "output_type": "stream",
     "text": [
      "                           Recurrence status (1, yes; 0, no): 0.81\n",
      "                          Survial status (1, dead; 0, alive): 0.83\n",
      "                                            histologic_grade: 0.40\n",
      "                                             histologic_type: 0.24\n",
      "   measure_of_success_of_outcome_at_last_available_follow-up: 0.33\n",
      "                            pathologic_staging_primary_tumor: 0.25\n"
     ]
    }
   ],
   "source": [
    "optimized_acc, optimized_params = random_search(\n",
    "    X, \n",
    "    ys,\n",
    "    n_neighbors=[3,6,8,10,20],\n",
    "    algorithm=['auto', 'ball_tree', 'kd_tree', 'brute'],\n",
    "    leaf_size=[20,30,40],\n",
    "    p = [1,2],\n",
    "    n_iter=10\n",
    ")\n",
    "\n",
    "for target, res in optimized_acc.items():\n",
    "    print(f\"{target: >60}: {round(res, 2):0<4}\")"
   ]
  },
  {
   "cell_type": "code",
   "execution_count": 41,
   "metadata": {},
   "outputs": [
    {
     "name": "stdout",
     "output_type": "stream",
     "text": [
      "                           Recurrence status (1, yes; 0, no): 0.81\n",
      "                          Survial status (1, dead; 0, alive): 0.83\n",
      "                                            histologic_grade: 0.40\n",
      "                                             histologic_type: 0.24\n",
      "   measure_of_success_of_outcome_at_last_available_follow-up: 0.33\n",
      "                            pathologic_staging_primary_tumor: 0.25\n"
     ]
    }
   ],
   "source": [
    "optimized_acc, optimized_params = random_search(\n",
    "    X, \n",
    "    ys,\n",
    "    n_neighbors=[3,6,8,10,20],\n",
    "    algorithm=['auto', 'ball_tree', 'kd_tree', 'brute'],\n",
    "    leaf_size=[20,30,40],\n",
    "    p = [1,2],\n",
    "    n_iter=20\n",
    ")\n",
    "\n",
    "for target, res in optimized_acc.items():\n",
    "    print(f\"{target: >60}: {round(res, 2):0<4}\")"
   ]
  }
 ],
 "metadata": {
  "kernelspec": {
   "display_name": "Python 3",
   "language": "python",
   "name": "python3"
  },
  "language_info": {
   "codemirror_mode": {
    "name": "ipython",
    "version": 3
   },
   "file_extension": ".py",
   "mimetype": "text/x-python",
   "name": "python",
   "nbconvert_exporter": "python",
   "pygments_lexer": "ipython3",
   "version": "3.8.3"
  }
 },
 "nbformat": 4,
 "nbformat_minor": 4
}
