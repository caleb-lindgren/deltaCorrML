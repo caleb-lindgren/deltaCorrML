{
 "cells": [
  {
   "cell_type": "code",
   "execution_count": 23,
   "metadata": {},
   "outputs": [],
   "source": [
    "import numpy as np\n",
    "import matplotlib.pyplot as plt\n",
    "import pandas as pd\n",
    "from sklearn.neighbors import KNeighborsClassifier\n",
    "from sklearn.model_selection import train_test_split\n",
    "import sklearn\n",
    "import altair as alt"
   ]
  },
  {
   "cell_type": "code",
   "execution_count": 3,
   "metadata": {},
   "outputs": [
    {
     "data": {
      "text/plain": [
       "Index(['Recurrence status (1, yes; 0, no)',\n",
       "       'Survial status (1, dead; 0, alive)', 'histologic_grade',\n",
       "       'histologic_type',\n",
       "       'measure_of_success_of_outcome_at_last_available_follow-up',\n",
       "       'pathologic_staging_primary_tumor'],\n",
       "      dtype='object')"
      ]
     },
     "execution_count": 3,
     "metadata": {},
     "output_type": "execute_result"
    }
   ],
   "source": [
    "X = pd.read_csv('inputs_cleaned.tsv', sep='\\t', index_col=0)\n",
    "y = pd.read_csv('targets_cleaned.tsv', sep='\\t', index_col=0)\n",
    "y.columns"
   ]
  },
  {
   "cell_type": "markdown",
   "metadata": {},
   "source": [
    "# predicting survival "
   ]
  },
  {
   "cell_type": "code",
   "execution_count": 25,
   "metadata": {},
   "outputs": [
    {
     "name": "stderr",
     "output_type": "stream",
     "text": [
      "<ipython-input-25-1ed9c0be74f9>:23: DataConversionWarning: A column-vector y was passed when a 1d array was expected. Please change the shape of y to (n_samples, ), for example using ravel().\n",
      "  clf.fit(X_train, y_train)\n"
     ]
    },
    {
     "data": {
      "text/plain": [
       "0.7777777777777778"
      ]
     },
     "execution_count": 25,
     "metadata": {},
     "output_type": "execute_result"
    }
   ],
   "source": [
    "X = pd.read_csv('inputs_cleaned.tsv', sep='\\t', index_col=0)\n",
    "y = pd.read_csv('targets_cleaned.tsv', sep='\\t', index_col=0)\n",
    "\n",
    "cancer_type_one_hot = pd.get_dummies(X[\"cancer_type\"])\n",
    "X = X.drop(columns='cancer_type')\n",
    "X = cancer_type_one_hot.join(X)\n",
    "\n",
    "# Now we just need to cast bools to ints\n",
    "X.loc[:, X.columns[X.columns.str.startswith(\"above_reg_line_\")]] = X.\\\n",
    "loc[:, X.columns[X.columns.str.startswith(\"above_reg_line_\")]].astype(int)\n",
    "\n",
    "\n",
    "# for survival fill missing with 2\n",
    "y = y[['Survial status (1, dead; 0, alive)']]\n",
    "y = y.fillna(2)\n",
    "\n",
    "y = y.to_numpy()\n",
    "X = X.to_numpy()\n",
    "\n",
    "X_train, X_test, y_train, y_test = train_test_split(X, y, test_size=0.33, random_state=42)\n",
    "\n",
    "clf = KNeighborsClassifier()\n",
    "clf.fit(X_train, y_train)\n",
    "clf.score(X_test, y_test)"
   ]
  },
  {
   "cell_type": "markdown",
   "metadata": {},
   "source": [
    "# all targets\n"
   ]
  },
  {
   "cell_type": "code",
   "execution_count": 20,
   "metadata": {},
   "outputs": [],
   "source": [
    "X = pd.read_csv('inputs_cleaned.tsv', sep='\\t', index_col=0)\n",
    "y = pd.read_csv('targets_cleaned.tsv', sep='\\t', index_col=0)\n",
    "\n",
    "cancer_type_one_hot = pd.get_dummies(X[\"cancer_type\"])\n",
    "X = X.drop(columns='cancer_type')\n",
    "X = cancer_type_one_hot.join(X)\n",
    "\n",
    "# Now we just need to cast bools to ints\n",
    "X.loc[:, X.columns[X.columns.str.startswith(\"above_reg_line_\")]] = X.\\\n",
    "loc[:, X.columns[X.columns.str.startswith(\"above_reg_line_\")]].astype(int)\n",
    "\n",
    "\n",
    "ys = {}\n",
    "\n",
    "for col in y.columns:\n",
    "    ys[col] = pd.get_dummies(y[col])"
   ]
  },
  {
   "cell_type": "code",
   "execution_count": 165,
   "metadata": {},
   "outputs": [],
   "source": [
    "def testingk(X, ys, k):\n",
    "    \n",
    "    results = {}\n",
    "    for target, y in ys.items():\n",
    "        knn = KNeighborsClassifier(n_neighbors=k)\n",
    "        results[target] = sklearn.model_selection.cross_validate(knn, X, y, cv=10)\n",
    "        \n",
    "    return results"
   ]
  },
  {
   "cell_type": "code",
   "execution_count": 166,
   "metadata": {},
   "outputs": [
    {
     "name": "stdout",
     "output_type": "stream",
     "text": [
      "                           Recurrence status (1, yes; 0, no): 0.74\n",
      "                          Survial status (1, dead; 0, alive): 0.75\n",
      "                                            histologic_grade: 0.40\n",
      "                                             histologic_type: 0.39\n",
      "   measure_of_success_of_outcome_at_last_available_follow-up: 0.30\n",
      "                            pathologic_staging_primary_tumor: 0.30\n"
     ]
    }
   ],
   "source": [
    "k_acc = testingk(X, ys, k=3)\n",
    "for target, res in k_acc.items():\n",
    "    mean_acc = res[\"test_score\"].mean()\n",
    "    print(f\"{target: >60}: {round(mean_acc, 2):0<4}\")"
   ]
  },
  {
   "cell_type": "code",
   "execution_count": 168,
   "metadata": {},
   "outputs": [
    {
     "name": "stdout",
     "output_type": "stream",
     "text": [
      "                           Recurrence status (1, yes; 0, no): 0.79\n",
      "                          Survial status (1, dead; 0, alive): 0.81\n",
      "                                            histologic_grade: 0.25\n",
      "                                             histologic_type: 0.22\n",
      "   measure_of_success_of_outcome_at_last_available_follow-up: 0.21\n",
      "                            pathologic_staging_primary_tumor: 0.15\n"
     ]
    }
   ],
   "source": [
    "k_acc = testingk(X, ys, k=10)\n",
    "for target, res in k_acc.items():\n",
    "    mean_acc = res[\"test_score\"].mean()\n",
    "    print(f\"{target: >60}: {round(mean_acc, 2):0<4}\")"
   ]
  },
  {
   "cell_type": "code",
   "execution_count": 169,
   "metadata": {},
   "outputs": [
    {
     "name": "stdout",
     "output_type": "stream",
     "text": [
      "                           Recurrence status (1, yes; 0, no): 0.81\n",
      "                          Survial status (1, dead; 0, alive): 0.83\n",
      "                                            histologic_grade: 0.31\n",
      "                                             histologic_type: 0.12\n",
      "   measure_of_success_of_outcome_at_last_available_follow-up: 0.23\n",
      "                            pathologic_staging_primary_tumor: 0.16\n"
     ]
    }
   ],
   "source": [
    "k_acc = testingk(X, ys, k=20)\n",
    "for target, res in k_acc.items():\n",
    "    mean_acc = res[\"test_score\"].mean()\n",
    "    print(f\"{target: >60}: {round(mean_acc, 2):0<4}\")"
   ]
  },
  {
   "cell_type": "code",
   "execution_count": 172,
   "metadata": {},
   "outputs": [
    {
     "name": "stdout",
     "output_type": "stream",
     "text": [
      "                           Recurrence status (1, yes; 0, no): 0.81\n",
      "                          Survial status (1, dead; 0, alive): 0.83\n",
      "                                            histologic_grade: 0.30\n",
      "                                             histologic_type: 0.03\n",
      "   measure_of_success_of_outcome_at_last_available_follow-up: 0.24\n",
      "                            pathologic_staging_primary_tumor: 0.15\n"
     ]
    }
   ],
   "source": [
    "k_acc = testingk(X, ys, k=30)\n",
    "for target, res in k_acc.items():\n",
    "    mean_acc = res[\"test_score\"].mean()\n",
    "    print(f\"{target: >60}: {round(mean_acc, 2):0<4}\")"
   ]
  },
  {
   "cell_type": "code",
   "execution_count": 170,
   "metadata": {},
   "outputs": [
    {
     "name": "stdout",
     "output_type": "stream",
     "text": [
      "                           Recurrence status (1, yes; 0, no): 0.81\n",
      "                          Survial status (1, dead; 0, alive): 0.83\n",
      "                                            histologic_grade: 0.33\n",
      "                                             histologic_type: 0.01\n",
      "   measure_of_success_of_outcome_at_last_available_follow-up: 0.24\n",
      "                            pathologic_staging_primary_tumor: 0.13\n"
     ]
    }
   ],
   "source": [
    "k_acc = testingk(X, ys, k=40)\n",
    "for target, res in k_acc.items():\n",
    "    mean_acc = res[\"test_score\"].mean()\n",
    "    print(f\"{target: >60}: {round(mean_acc, 2):0<4}\")"
   ]
  },
  {
   "cell_type": "code",
   "execution_count": 171,
   "metadata": {},
   "outputs": [
    {
     "name": "stdout",
     "output_type": "stream",
     "text": [
      "                           Recurrence status (1, yes; 0, no): 0.81\n",
      "                          Survial status (1, dead; 0, alive): 0.83\n",
      "                                            histologic_grade: 0.38\n",
      "                                             histologic_type: 0.00\n",
      "   measure_of_success_of_outcome_at_last_available_follow-up: 0.29\n",
      "                            pathologic_staging_primary_tumor: 0.10\n"
     ]
    }
   ],
   "source": [
    "k_acc = testingk(X, ys, k=100)\n",
    "for target, res in k_acc.items():\n",
    "    mean_acc = res[\"test_score\"].mean()\n",
    "    print(f\"{target: >60}: {round(mean_acc, 2):0<4}\")"
   ]
  },
  {
   "cell_type": "code",
   "execution_count": null,
   "metadata": {},
   "outputs": [],
   "source": []
  },
  {
   "cell_type": "markdown",
   "metadata": {},
   "source": [
    "# Optimized"
   ]
  },
  {
   "cell_type": "code",
   "execution_count": 101,
   "metadata": {},
   "outputs": [],
   "source": [
    "def random_search(\n",
    "    X, \n",
    "    ys,\n",
    "    n_neighbors,\n",
    "    algorithm,\n",
    "    weights,\n",
    "    leaf_size,\n",
    "    p,\n",
    "    n_iter,\n",
    "    optimized_scores_list,\n",
    "    optimized_params_list,\n",
    "    optimized_charts_list\n",
    "):\n",
    "    \n",
    "    \n",
    "    scores = {}\n",
    "    params = {}\n",
    "    for target, y in ys.items():\n",
    "        knn = KNeighborsClassifier()\n",
    "        search = sklearn.model_selection.RandomizedSearchCV(\n",
    "            estimator=knn,\n",
    "            param_distributions={\n",
    "                \"n_neighbors\": n_neighbors,\n",
    "                'weights' : weights,\n",
    "                \"algorithm\": algorithm,\n",
    "                \"leaf_size\": leaf_size,\n",
    "                \"p\": p,\n",
    "            },\n",
    "            n_iter=n_iter,\n",
    "            random_state=0,\n",
    "            cv=10,\n",
    "            n_jobs=-1, # Use all processors,\n",
    "            scoring={\n",
    "                \"accuracy\": \"accuracy\",\n",
    "                \"precision\": sklearn.metrics.make_scorer(\n",
    "                    sklearn.metrics.precision_score,\n",
    "                    average=\"samples\",\n",
    "                    zero_division=0\n",
    "                ),\n",
    "                \"recall\": sklearn.metrics.make_scorer(\n",
    "                    sklearn.metrics.recall_score,\n",
    "                    average=\"samples\",\n",
    "                    zero_division=0\n",
    "                ),\n",
    "            },\n",
    "            refit=\"accuracy\",\n",
    "        ).fit(X, y)\n",
    "        \n",
    "        scores[target] = search.cv_results_\n",
    "        params[target] = search.best_params_\n",
    "        \n",
    "#    return scores, params\n",
    "    # Extract the overall scores\n",
    "    scores_list = []\n",
    "    for target, tscores in scores.items():\n",
    "#         import pdb;pdb.set_trace()\n",
    "        df = pd.DataFrame(tscores)[\n",
    "            ['mean_test_accuracy', 'mean_test_precision', 'mean_test_recall']\n",
    "        ]\n",
    "        df = df.mean(axis=0).to_frame()\n",
    "        df.columns = [target]\n",
    "        scores_list.append(df)\n",
    "    \n",
    "    scores_df = pd.DataFrame()\n",
    "    for df in scores_list:\n",
    "        scores_df = scores_df.join(df, how=\"outer\")\n",
    "        \n",
    "    # Make a chart\n",
    "    scores_df.index.name = \"metric\"\n",
    "    chart_df = scores_df.reset_index().melt(\n",
    "        id_vars=\"metric\",\n",
    "        var_name=\"target\",\n",
    "        value_name=\"score\",\n",
    "    )\n",
    "    \n",
    "    chart = alt.Chart(chart_df).mark_bar().encode(\n",
    "        x=\"target\",\n",
    "        y=alt.Y(\n",
    "            \"score\",\n",
    "            scale=alt.Scale(\n",
    "                domain=[0, 1]\n",
    "            )\n",
    "        ),\n",
    "        color=\"target\",\n",
    "        column=\"metric\"\n",
    "    )\n",
    "    \n",
    "    scores_df.columns.name = \"target\"\n",
    "    scores_df.index.name = None\n",
    "    scores_df = scores_df.T.sort_index()\n",
    "    \n",
    "    optimized_scores_list.append(scores_df)\n",
    "    optimized_params_list.append(params)\n",
    "    optimized_charts_list.append(chart)\n",
    "\n",
    "\n",
    "       "
   ]
  },
  {
   "cell_type": "code",
   "execution_count": 157,
   "metadata": {},
   "outputs": [],
   "source": [
    "optimized_scores_list = []\n",
    "optimized_params_list = []\n",
    "optimized_charts_list = []"
   ]
  },
  {
   "cell_type": "code",
   "execution_count": null,
   "metadata": {},
   "outputs": [],
   "source": [
    "#test different ranges of k"
   ]
  },
  {
   "cell_type": "code",
   "execution_count": 143,
   "metadata": {},
   "outputs": [],
   "source": [
    "random_search(\n",
    "    X, \n",
    "    ys,\n",
    "    n_neighbors=range(0,10),\n",
    "    weights = ['uniform', 'distance'],\n",
    "    algorithm=['auto', 'ball_tree', 'kd_tree', 'brute'],\n",
    "    leaf_size=[20,30,40],\n",
    "    p = [1,2],\n",
    "    n_iter=10,\n",
    "    optimized_scores_list=optimized_scores_list,\n",
    "    optimized_params_list=optimized_params_list,\n",
    "    optimized_charts_list=optimized_charts_list\n",
    ")\n"
   ]
  },
  {
   "cell_type": "code",
   "execution_count": 144,
   "metadata": {},
   "outputs": [],
   "source": [
    "random_search(\n",
    "    X, \n",
    "    ys,\n",
    "    n_neighbors=range(10,15),\n",
    "    weights = ['uniform', 'distance'],\n",
    "    algorithm=['auto', 'ball_tree', 'kd_tree', 'brute'],\n",
    "    leaf_size=[20,30,40],\n",
    "    p = [1,2],\n",
    "    n_iter=10,\n",
    "    optimized_scores_list=optimized_scores_list,\n",
    "    optimized_params_list=optimized_params_list,\n",
    "    optimized_charts_list=optimized_charts_list\n",
    ")\n",
    "\n"
   ]
  },
  {
   "cell_type": "code",
   "execution_count": 145,
   "metadata": {},
   "outputs": [],
   "source": [
    "random_search(\n",
    "    X, \n",
    "    ys,\n",
    "    n_neighbors=range(15,20),\n",
    "    weights = ['uniform', 'distance'],    \n",
    "    algorithm=['auto', 'ball_tree', 'kd_tree', 'brute'],\n",
    "    leaf_size=[20,30,40],\n",
    "    p = [1,2],\n",
    "    n_iter=10,\n",
    "    optimized_scores_list=optimized_scores_list,\n",
    "    optimized_params_list=optimized_params_list,\n",
    "    optimized_charts_list=optimized_charts_list\n",
    ")\n",
    "\n"
   ]
  },
  {
   "cell_type": "code",
   "execution_count": null,
   "metadata": {},
   "outputs": [],
   "source": [
    "#k stopd improving after 20"
   ]
  },
  {
   "cell_type": "code",
   "execution_count": null,
   "metadata": {},
   "outputs": [],
   "source": [
    "#test different ranges of leaf size"
   ]
  },
  {
   "cell_type": "code",
   "execution_count": 129,
   "metadata": {},
   "outputs": [],
   "source": [
    "random_search(\n",
    "    X, \n",
    "    ys,\n",
    "    n_neighbors=range(15,20),\n",
    "    weights = ['uniform', 'distance'],    \n",
    "    algorithm=['auto', 'ball_tree', 'kd_tree', 'brute'],\n",
    "    leaf_size=range(10,20),\n",
    "    p = [1,2],\n",
    "    n_iter=10,\n",
    "    optimized_scores_list=optimized_scores_list,\n",
    "    optimized_params_list=optimized_params_list,\n",
    "    optimized_charts_list=optimized_charts_list\n",
    ")\n",
    "\n"
   ]
  },
  {
   "cell_type": "code",
   "execution_count": 131,
   "metadata": {},
   "outputs": [],
   "source": [
    "random_search(\n",
    "    X, \n",
    "    ys,\n",
    "    n_neighbors=range(15,20),\n",
    "    weights = ['uniform', 'distance'],    \n",
    "    algorithm=['auto', 'ball_tree', 'kd_tree', 'brute'],\n",
    "    leaf_size=range(20,30),\n",
    "    p = [1,2],\n",
    "    n_iter=10,\n",
    "    optimized_scores_list=optimized_scores_list,\n",
    "    optimized_params_list=optimized_params_list,\n",
    "    optimized_charts_list=optimized_charts_list\n",
    ")"
   ]
  },
  {
   "cell_type": "code",
   "execution_count": 133,
   "metadata": {},
   "outputs": [],
   "source": [
    "random_search(\n",
    "    X, \n",
    "    ys,\n",
    "    n_neighbors=range(15,20),\n",
    "    weights = ['uniform', 'distance'],    \n",
    "    algorithm=['auto', 'ball_tree', 'kd_tree', 'brute'],\n",
    "    leaf_size=range(30,40),\n",
    "    p = [1,2],\n",
    "    n_iter=10,\n",
    "    optimized_scores_list=optimized_scores_list,\n",
    "    optimized_params_list=optimized_params_list,\n",
    "    optimized_charts_list=optimized_charts_list\n",
    ")"
   ]
  },
  {
   "cell_type": "code",
   "execution_count": null,
   "metadata": {},
   "outputs": [],
   "source": [
    "random_search(\n",
    "    X, \n",
    "    ys,\n",
    "    n_neighbors=range(10,100),\n",
    "    weights = ['uniform', 'distance'],    \n",
    "    algorithm=['auto', 'ball_tree', 'kd_tree', 'brute'],\n",
    "    leaf_size=range(30,40),\n",
    "    p = [1,2],\n",
    "    n_iter=10,\n",
    "    optimized_scores_list=optimized_scores_list,\n",
    "    optimized_params_list=optimized_params_list,\n",
    "    optimized_charts_list=optimized_charts_list\n",
    ")"
   ]
  },
  {
   "cell_type": "code",
   "execution_count": null,
   "metadata": {},
   "outputs": [],
   "source": [
    "#test n_iter"
   ]
  },
  {
   "cell_type": "code",
   "execution_count": 158,
   "metadata": {},
   "outputs": [],
   "source": [
    "random_search(\n",
    "    X, \n",
    "    ys,\n",
    "    n_neighbors=range(10,200),\n",
    "    weights = ['uniform', 'distance'],    \n",
    "    algorithm=['auto', 'ball_tree', 'kd_tree', 'brute'],\n",
    "    leaf_size=range(2,50),\n",
    "    p = [1,2],\n",
    "    n_iter=10,\n",
    "    optimized_scores_list=optimized_scores_list,\n",
    "    optimized_params_list=optimized_params_list,\n",
    "    optimized_charts_list=optimized_charts_list\n",
    ")"
   ]
  },
  {
   "cell_type": "code",
   "execution_count": 159,
   "metadata": {},
   "outputs": [],
   "source": [
    "random_search(\n",
    "    X, \n",
    "    ys,\n",
    "    n_neighbors=range(10,200),\n",
    "    weights = ['uniform', 'distance'],    \n",
    "    algorithm=['auto', 'ball_tree', 'kd_tree', 'brute'],\n",
    "    leaf_size=range(2,50),\n",
    "    p = [1,2],\n",
    "    n_iter=100,\n",
    "    optimized_scores_list=optimized_scores_list,\n",
    "    optimized_params_list=optimized_params_list,\n",
    "    optimized_charts_list=optimized_charts_list\n",
    ")"
   ]
  },
  {
   "cell_type": "code",
   "execution_count": 160,
   "metadata": {
    "scrolled": true
   },
   "outputs": [
    {
     "data": {
      "text/html": [
       "<div>\n",
       "<style scoped>\n",
       "    .dataframe tbody tr th:only-of-type {\n",
       "        vertical-align: middle;\n",
       "    }\n",
       "\n",
       "    .dataframe tbody tr th {\n",
       "        vertical-align: top;\n",
       "    }\n",
       "\n",
       "    .dataframe thead th {\n",
       "        text-align: right;\n",
       "    }\n",
       "</style>\n",
       "<table border=\"1\" class=\"dataframe\">\n",
       "  <thead>\n",
       "    <tr style=\"text-align: right;\">\n",
       "      <th></th>\n",
       "      <th>mean_test_accuracy</th>\n",
       "      <th>mean_test_precision</th>\n",
       "      <th>mean_test_recall</th>\n",
       "    </tr>\n",
       "    <tr>\n",
       "      <th>target</th>\n",
       "      <th></th>\n",
       "      <th></th>\n",
       "      <th></th>\n",
       "    </tr>\n",
       "  </thead>\n",
       "  <tbody>\n",
       "    <tr>\n",
       "      <th>Recurrence status (1, yes; 0, no)</th>\n",
       "      <td>0.812879</td>\n",
       "      <td>0.812879</td>\n",
       "      <td>0.812879</td>\n",
       "    </tr>\n",
       "    <tr>\n",
       "      <th>Survial status (1, dead; 0, alive)</th>\n",
       "      <td>0.825284</td>\n",
       "      <td>0.825284</td>\n",
       "      <td>0.825284</td>\n",
       "    </tr>\n",
       "    <tr>\n",
       "      <th>histologic_grade</th>\n",
       "      <td>0.378731</td>\n",
       "      <td>0.378731</td>\n",
       "      <td>0.378731</td>\n",
       "    </tr>\n",
       "    <tr>\n",
       "      <th>histologic_type</th>\n",
       "      <td>0.003636</td>\n",
       "      <td>0.003636</td>\n",
       "      <td>0.003636</td>\n",
       "    </tr>\n",
       "    <tr>\n",
       "      <th>measure_of_success_of_outcome_at_last_available_follow-up</th>\n",
       "      <td>0.299687</td>\n",
       "      <td>0.299687</td>\n",
       "      <td>0.299687</td>\n",
       "    </tr>\n",
       "    <tr>\n",
       "      <th>pathologic_staging_primary_tumor</th>\n",
       "      <td>0.107405</td>\n",
       "      <td>0.107405</td>\n",
       "      <td>0.107405</td>\n",
       "    </tr>\n",
       "  </tbody>\n",
       "</table>\n",
       "</div>"
      ],
      "text/plain": [
       "                                                    mean_test_accuracy  \\\n",
       "target                                                                   \n",
       "Recurrence status (1, yes; 0, no)                             0.812879   \n",
       "Survial status (1, dead; 0, alive)                            0.825284   \n",
       "histologic_grade                                              0.378731   \n",
       "histologic_type                                               0.003636   \n",
       "measure_of_success_of_outcome_at_last_available...            0.299687   \n",
       "pathologic_staging_primary_tumor                              0.107405   \n",
       "\n",
       "                                                    mean_test_precision  \\\n",
       "target                                                                    \n",
       "Recurrence status (1, yes; 0, no)                              0.812879   \n",
       "Survial status (1, dead; 0, alive)                             0.825284   \n",
       "histologic_grade                                               0.378731   \n",
       "histologic_type                                                0.003636   \n",
       "measure_of_success_of_outcome_at_last_available...             0.299687   \n",
       "pathologic_staging_primary_tumor                               0.107405   \n",
       "\n",
       "                                                    mean_test_recall  \n",
       "target                                                                \n",
       "Recurrence status (1, yes; 0, no)                           0.812879  \n",
       "Survial status (1, dead; 0, alive)                          0.825284  \n",
       "histologic_grade                                            0.378731  \n",
       "histologic_type                                             0.003636  \n",
       "measure_of_success_of_outcome_at_last_available...          0.299687  \n",
       "pathologic_staging_primary_tumor                            0.107405  "
      ]
     },
     "execution_count": 160,
     "metadata": {},
     "output_type": "execute_result"
    }
   ],
   "source": [
    "optimized_scores_list[0]"
   ]
  },
  {
   "cell_type": "code",
   "execution_count": 161,
   "metadata": {},
   "outputs": [
    {
     "data": {
      "text/html": [
       "<div>\n",
       "<style scoped>\n",
       "    .dataframe tbody tr th:only-of-type {\n",
       "        vertical-align: middle;\n",
       "    }\n",
       "\n",
       "    .dataframe tbody tr th {\n",
       "        vertical-align: top;\n",
       "    }\n",
       "\n",
       "    .dataframe thead th {\n",
       "        text-align: right;\n",
       "    }\n",
       "</style>\n",
       "<table border=\"1\" class=\"dataframe\">\n",
       "  <thead>\n",
       "    <tr style=\"text-align: right;\">\n",
       "      <th></th>\n",
       "      <th>mean_test_accuracy</th>\n",
       "      <th>mean_test_precision</th>\n",
       "      <th>mean_test_recall</th>\n",
       "    </tr>\n",
       "    <tr>\n",
       "      <th>target</th>\n",
       "      <th></th>\n",
       "      <th></th>\n",
       "      <th></th>\n",
       "    </tr>\n",
       "  </thead>\n",
       "  <tbody>\n",
       "    <tr>\n",
       "      <th>Recurrence status (1, yes; 0, no)</th>\n",
       "      <td>0.812571</td>\n",
       "      <td>0.812571</td>\n",
       "      <td>0.812571</td>\n",
       "    </tr>\n",
       "    <tr>\n",
       "      <th>Survial status (1, dead; 0, alive)</th>\n",
       "      <td>0.825039</td>\n",
       "      <td>0.825039</td>\n",
       "      <td>0.825039</td>\n",
       "    </tr>\n",
       "    <tr>\n",
       "      <th>histologic_grade</th>\n",
       "      <td>0.388220</td>\n",
       "      <td>0.388220</td>\n",
       "      <td>0.388220</td>\n",
       "    </tr>\n",
       "    <tr>\n",
       "      <th>histologic_type</th>\n",
       "      <td>0.016351</td>\n",
       "      <td>0.016351</td>\n",
       "      <td>0.016351</td>\n",
       "    </tr>\n",
       "    <tr>\n",
       "      <th>measure_of_success_of_outcome_at_last_available_follow-up</th>\n",
       "      <td>0.306613</td>\n",
       "      <td>0.306613</td>\n",
       "      <td>0.306613</td>\n",
       "    </tr>\n",
       "    <tr>\n",
       "      <th>pathologic_staging_primary_tumor</th>\n",
       "      <td>0.104345</td>\n",
       "      <td>0.104345</td>\n",
       "      <td>0.104345</td>\n",
       "    </tr>\n",
       "  </tbody>\n",
       "</table>\n",
       "</div>"
      ],
      "text/plain": [
       "                                                    mean_test_accuracy  \\\n",
       "target                                                                   \n",
       "Recurrence status (1, yes; 0, no)                             0.812571   \n",
       "Survial status (1, dead; 0, alive)                            0.825039   \n",
       "histologic_grade                                              0.388220   \n",
       "histologic_type                                               0.016351   \n",
       "measure_of_success_of_outcome_at_last_available...            0.306613   \n",
       "pathologic_staging_primary_tumor                              0.104345   \n",
       "\n",
       "                                                    mean_test_precision  \\\n",
       "target                                                                    \n",
       "Recurrence status (1, yes; 0, no)                              0.812571   \n",
       "Survial status (1, dead; 0, alive)                             0.825039   \n",
       "histologic_grade                                               0.388220   \n",
       "histologic_type                                                0.016351   \n",
       "measure_of_success_of_outcome_at_last_available...             0.306613   \n",
       "pathologic_staging_primary_tumor                               0.104345   \n",
       "\n",
       "                                                    mean_test_recall  \n",
       "target                                                                \n",
       "Recurrence status (1, yes; 0, no)                           0.812571  \n",
       "Survial status (1, dead; 0, alive)                          0.825039  \n",
       "histologic_grade                                            0.388220  \n",
       "histologic_type                                             0.016351  \n",
       "measure_of_success_of_outcome_at_last_available...          0.306613  \n",
       "pathologic_staging_primary_tumor                            0.104345  "
      ]
     },
     "execution_count": 161,
     "metadata": {},
     "output_type": "execute_result"
    }
   ],
   "source": [
    "optimized_scores_list[1]"
   ]
  },
  {
   "cell_type": "code",
   "execution_count": 173,
   "metadata": {},
   "outputs": [
    {
     "name": "stdout",
     "output_type": "stream",
     "text": [
      "\\begin{tabular}{lrrr}\n",
      "\\toprule\n",
      "{} &  mean\\_test\\_accuracy &  mean\\_test\\_precision &  mean\\_test\\_recall \\\\\n",
      "target                                             &                     &                      &                   \\\\\n",
      "\\midrule\n",
      "Recurrence status (1, yes; 0, no)                  &              0.8126 &               0.8126 &            0.8126 \\\\\n",
      "Survial status (1, dead; 0, alive)                 &              0.8250 &               0.8250 &            0.8250 \\\\\n",
      "histologic\\_grade                                   &              0.3882 &               0.3882 &            0.3882 \\\\\n",
      "histologic\\_type                                    &              0.0164 &               0.0164 &            0.0164 \\\\\n",
      "measure\\_of\\_success\\_of\\_outcome\\_at\\_last\\_available... &              0.3066 &               0.3066 &            0.3066 \\\\\n",
      "pathologic\\_staging\\_primary\\_tumor                   &              0.1043 &               0.1043 &            0.1043 \\\\\n",
      "\\bottomrule\n",
      "\\end{tabular}\n",
      "\n"
     ]
    }
   ],
   "source": [
    "print(optimized_scores_list[1].round(4).to_latex())"
   ]
  }
 ],
 "metadata": {
  "kernelspec": {
   "display_name": "Python 3",
   "language": "python",
   "name": "python3"
  },
  "language_info": {
   "codemirror_mode": {
    "name": "ipython",
    "version": 3
   },
   "file_extension": ".py",
   "mimetype": "text/x-python",
   "name": "python",
   "nbconvert_exporter": "python",
   "pygments_lexer": "ipython3",
   "version": "3.8.3"
  }
 },
 "nbformat": 4,
 "nbformat_minor": 4
}
